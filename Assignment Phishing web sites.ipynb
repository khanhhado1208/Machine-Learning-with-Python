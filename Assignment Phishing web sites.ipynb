{
 "cells": [
  {
   "cell_type": "markdown",
   "id": "b40d9e14-230e-4196-9d47-de090cc28fcd",
   "metadata": {},
   "source": [
    "## Mathematics and Methods in Machine Learning and Neural Networks\n",
    "#### Ha Do, Melany Macias & Daniel R\n"
   ]
  },
  {
   "cell_type": "code",
   "execution_count": 1,
   "id": "743d44f0-c47c-401c-83e3-e45c4c2a8bbb",
   "metadata": {},
   "outputs": [],
   "source": [
    "# importing libraries  \n",
    "import numpy as np\n",
    "import matplotlib.pyplot as mtp  \n",
    "from matplotlib import pyplot as plt\n",
    "import pandas as pd\n",
    "from sklearn.metrics import plot_confusion_matrix"
   ]
  },
  {
   "cell_type": "code",
   "execution_count": 2,
   "id": "e0ceb242-3ff7-4f3d-8546-62b701cbd03a",
   "metadata": {},
   "outputs": [
    {
     "data": {
      "text/html": [
       "<div>\n",
       "<style scoped>\n",
       "    .dataframe tbody tr th:only-of-type {\n",
       "        vertical-align: middle;\n",
       "    }\n",
       "\n",
       "    .dataframe tbody tr th {\n",
       "        vertical-align: top;\n",
       "    }\n",
       "\n",
       "    .dataframe thead th {\n",
       "        text-align: right;\n",
       "    }\n",
       "</style>\n",
       "<table border=\"1\" class=\"dataframe\">\n",
       "  <thead>\n",
       "    <tr style=\"text-align: right;\">\n",
       "      <th></th>\n",
       "      <th>having_IP_Address</th>\n",
       "      <th>URL_Length</th>\n",
       "      <th>Shortining_Service</th>\n",
       "      <th>having_At_Symbol</th>\n",
       "      <th>double_slash_redirecting</th>\n",
       "      <th>Prefix_Suffix</th>\n",
       "      <th>having_Sub_Domain</th>\n",
       "      <th>SSLfinal_State</th>\n",
       "      <th>Domain_registeration_length</th>\n",
       "      <th>Favicon</th>\n",
       "      <th>...</th>\n",
       "      <th>popUpWindow</th>\n",
       "      <th>Iframe</th>\n",
       "      <th>age_of_domain</th>\n",
       "      <th>DNSRecord</th>\n",
       "      <th>web_traffic</th>\n",
       "      <th>Page_Rank</th>\n",
       "      <th>Google_Index</th>\n",
       "      <th>Links_pointing_to_page</th>\n",
       "      <th>Statistical_report</th>\n",
       "      <th>Result</th>\n",
       "    </tr>\n",
       "  </thead>\n",
       "  <tbody>\n",
       "    <tr>\n",
       "      <th>0</th>\n",
       "      <td>-1</td>\n",
       "      <td>1</td>\n",
       "      <td>1</td>\n",
       "      <td>1</td>\n",
       "      <td>-1</td>\n",
       "      <td>-1</td>\n",
       "      <td>-1</td>\n",
       "      <td>-1</td>\n",
       "      <td>-1</td>\n",
       "      <td>1</td>\n",
       "      <td>...</td>\n",
       "      <td>1</td>\n",
       "      <td>1</td>\n",
       "      <td>-1</td>\n",
       "      <td>-1</td>\n",
       "      <td>-1</td>\n",
       "      <td>-1</td>\n",
       "      <td>1</td>\n",
       "      <td>1</td>\n",
       "      <td>-1</td>\n",
       "      <td>-1</td>\n",
       "    </tr>\n",
       "    <tr>\n",
       "      <th>1</th>\n",
       "      <td>1</td>\n",
       "      <td>1</td>\n",
       "      <td>1</td>\n",
       "      <td>1</td>\n",
       "      <td>1</td>\n",
       "      <td>-1</td>\n",
       "      <td>0</td>\n",
       "      <td>1</td>\n",
       "      <td>-1</td>\n",
       "      <td>1</td>\n",
       "      <td>...</td>\n",
       "      <td>1</td>\n",
       "      <td>1</td>\n",
       "      <td>-1</td>\n",
       "      <td>-1</td>\n",
       "      <td>0</td>\n",
       "      <td>-1</td>\n",
       "      <td>1</td>\n",
       "      <td>1</td>\n",
       "      <td>1</td>\n",
       "      <td>-1</td>\n",
       "    </tr>\n",
       "    <tr>\n",
       "      <th>2</th>\n",
       "      <td>1</td>\n",
       "      <td>0</td>\n",
       "      <td>1</td>\n",
       "      <td>1</td>\n",
       "      <td>1</td>\n",
       "      <td>-1</td>\n",
       "      <td>-1</td>\n",
       "      <td>-1</td>\n",
       "      <td>-1</td>\n",
       "      <td>1</td>\n",
       "      <td>...</td>\n",
       "      <td>1</td>\n",
       "      <td>1</td>\n",
       "      <td>1</td>\n",
       "      <td>-1</td>\n",
       "      <td>1</td>\n",
       "      <td>-1</td>\n",
       "      <td>1</td>\n",
       "      <td>0</td>\n",
       "      <td>-1</td>\n",
       "      <td>-1</td>\n",
       "    </tr>\n",
       "    <tr>\n",
       "      <th>3</th>\n",
       "      <td>1</td>\n",
       "      <td>0</td>\n",
       "      <td>1</td>\n",
       "      <td>1</td>\n",
       "      <td>1</td>\n",
       "      <td>-1</td>\n",
       "      <td>-1</td>\n",
       "      <td>-1</td>\n",
       "      <td>1</td>\n",
       "      <td>1</td>\n",
       "      <td>...</td>\n",
       "      <td>1</td>\n",
       "      <td>1</td>\n",
       "      <td>-1</td>\n",
       "      <td>-1</td>\n",
       "      <td>1</td>\n",
       "      <td>-1</td>\n",
       "      <td>1</td>\n",
       "      <td>-1</td>\n",
       "      <td>1</td>\n",
       "      <td>-1</td>\n",
       "    </tr>\n",
       "    <tr>\n",
       "      <th>4</th>\n",
       "      <td>1</td>\n",
       "      <td>0</td>\n",
       "      <td>-1</td>\n",
       "      <td>1</td>\n",
       "      <td>1</td>\n",
       "      <td>-1</td>\n",
       "      <td>1</td>\n",
       "      <td>1</td>\n",
       "      <td>-1</td>\n",
       "      <td>1</td>\n",
       "      <td>...</td>\n",
       "      <td>-1</td>\n",
       "      <td>1</td>\n",
       "      <td>-1</td>\n",
       "      <td>-1</td>\n",
       "      <td>0</td>\n",
       "      <td>-1</td>\n",
       "      <td>1</td>\n",
       "      <td>1</td>\n",
       "      <td>1</td>\n",
       "      <td>1</td>\n",
       "    </tr>\n",
       "  </tbody>\n",
       "</table>\n",
       "<p>5 rows × 31 columns</p>\n",
       "</div>"
      ],
      "text/plain": [
       "   having_IP_Address  URL_Length  Shortining_Service  having_At_Symbol  \\\n",
       "0                 -1           1                   1                 1   \n",
       "1                  1           1                   1                 1   \n",
       "2                  1           0                   1                 1   \n",
       "3                  1           0                   1                 1   \n",
       "4                  1           0                  -1                 1   \n",
       "\n",
       "   double_slash_redirecting  Prefix_Suffix  having_Sub_Domain  SSLfinal_State  \\\n",
       "0                        -1             -1                 -1              -1   \n",
       "1                         1             -1                  0               1   \n",
       "2                         1             -1                 -1              -1   \n",
       "3                         1             -1                 -1              -1   \n",
       "4                         1             -1                  1               1   \n",
       "\n",
       "   Domain_registeration_length  Favicon  ...  popUpWindow  Iframe  \\\n",
       "0                           -1        1  ...            1       1   \n",
       "1                           -1        1  ...            1       1   \n",
       "2                           -1        1  ...            1       1   \n",
       "3                            1        1  ...            1       1   \n",
       "4                           -1        1  ...           -1       1   \n",
       "\n",
       "   age_of_domain  DNSRecord  web_traffic  Page_Rank  Google_Index  \\\n",
       "0             -1         -1           -1         -1             1   \n",
       "1             -1         -1            0         -1             1   \n",
       "2              1         -1            1         -1             1   \n",
       "3             -1         -1            1         -1             1   \n",
       "4             -1         -1            0         -1             1   \n",
       "\n",
       "   Links_pointing_to_page  Statistical_report  Result  \n",
       "0                       1                  -1      -1  \n",
       "1                       1                   1      -1  \n",
       "2                       0                  -1      -1  \n",
       "3                      -1                   1      -1  \n",
       "4                       1                   1       1  \n",
       "\n",
       "[5 rows x 31 columns]"
      ]
     },
     "execution_count": 2,
     "metadata": {},
     "output_type": "execute_result"
    }
   ],
   "source": [
    "#importing datasets  \n",
    "df = pd.read_csv(\"phishing.csv\", sep=\"\\s*;\\s*\", engine=\"python\")\n",
    "df.head()"
   ]
  },
  {
   "cell_type": "markdown",
   "id": "aec0bc72-a0f2-43de-89b9-1e28e9d2f86a",
   "metadata": {},
   "source": [
    "##### Check frequency distribution of values in varriables"
   ]
  },
  {
   "cell_type": "code",
   "execution_count": 3,
   "id": "b4d47646-f2f9-42b9-8578-6a8da8c1de91",
   "metadata": {},
   "outputs": [
    {
     "name": "stdout",
     "output_type": "stream",
     "text": [
      " 1    7262\n",
      "-1    3793\n",
      "Name: having_IP_Address, dtype: int64\n",
      " 1    9611\n",
      "-1    1444\n",
      "Name: Shortining_Service, dtype: int64\n",
      " 1    9400\n",
      "-1    1655\n",
      "Name: having_At_Symbol, dtype: int64\n",
      " 1    9626\n",
      "-1    1429\n",
      "Name: double_slash_redirecting, dtype: int64\n",
      "-1    9590\n",
      " 1    1465\n",
      "Name: Prefix_Suffix, dtype: int64\n",
      " 1    4070\n",
      " 0    3622\n",
      "-1    3363\n",
      "Name: having_Sub_Domain, dtype: int64\n",
      " 1    6331\n",
      "-1    3557\n",
      " 0    1167\n",
      "Name: SSLfinal_State, dtype: int64\n",
      "-1    7389\n",
      " 1    3666\n",
      "Name: Domain_registeration_length, dtype: int64\n",
      " 1    9002\n",
      "-1    2053\n",
      "Name: Favicon, dtype: int64\n",
      " 1    9553\n",
      "-1    1502\n",
      "Name: port, dtype: int64\n",
      " 1    9259\n",
      "-1    1796\n",
      "Name: HTTPS_token, dtype: int64\n",
      " 1    6560\n",
      "-1    4495\n",
      "Name: Request_URL, dtype: int64\n",
      " 0    5337\n",
      "-1    3282\n",
      " 1    2436\n",
      "Name: URL_of_Anchor, dtype: int64\n",
      " 0    4449\n",
      "-1    3956\n",
      " 1    2650\n",
      "Name: Links_in_tags, dtype: int64\n",
      "-1    8440\n",
      " 1    1854\n",
      " 0     761\n",
      "Name: SFH, dtype: int64\n",
      " 1    9041\n",
      "-1    2014\n",
      "Name: Submitting_to_email, dtype: int64\n",
      " 1    9426\n",
      "-1    1629\n",
      "Name: Abnormal_URL, dtype: int64\n",
      "0    9776\n",
      "1    1279\n",
      "Name: Redirect, dtype: int64\n",
      " 1    9740\n",
      "-1    1315\n",
      "Name: on_mouseover, dtype: int64\n",
      " 1    10579\n",
      "-1      476\n",
      "Name: RightClick, dtype: int64\n",
      " 1    8918\n",
      "-1    2137\n",
      "Name: popUpWindow, dtype: int64\n",
      " 1    10043\n",
      "-1     1012\n",
      "Name: Iframe, dtype: int64\n",
      " 1    5866\n",
      "-1    5189\n",
      "Name: age_of_domain, dtype: int64\n",
      " 1    7612\n",
      "-1    3443\n",
      "Name: DNSRecord, dtype: int64\n",
      " 1    5831\n",
      "-1    2655\n",
      " 0    2569\n",
      "Name: web_traffic, dtype: int64\n",
      "-1    8201\n",
      " 1    2854\n",
      "Name: Page_Rank, dtype: int64\n",
      " 1    9516\n",
      "-1    1539\n",
      "Name: Google_Index, dtype: int64\n",
      " 0    6156\n",
      " 1    4351\n",
      "-1     548\n",
      "Name: Links_pointing_to_page, dtype: int64\n",
      " 1    9505\n",
      "-1    1550\n",
      "Name: Statistical_report, dtype: int64\n",
      " 1    6157\n",
      "-1    4898\n",
      "Name: Result, dtype: int64\n"
     ]
    }
   ],
   "source": [
    "\n",
    "col_names = ['having_IP_Address', 'Shortining_Service', \n",
    "             'having_At_Symbol', 'double_slash_redirecting', 'Prefix_Suffix', 'having_Sub_Domain', \n",
    "             'SSLfinal_State', 'Domain_registeration_length', 'Favicon',\n",
    "             'port', 'HTTPS_token', 'Request_URL', 'URL_of_Anchor', 'Links_in_tags',\n",
    "             'SFH', 'Submitting_to_email', 'Abnormal_URL','Redirect', 'on_mouseover',\n",
    "             'RightClick', 'popUpWindow', 'Iframe', 'age_of_domain', 'DNSRecord', 'web_traffic',\n",
    "             'Page_Rank', 'Google_Index', 'Links_pointing_to_page', 'Statistical_report', 'Result']\n",
    "for col in col_names:\n",
    "    \n",
    "    print(df[col].value_counts())"
   ]
  },
  {
   "cell_type": "code",
   "execution_count": 4,
   "id": "d205bb41-dfd2-41ce-b27a-84711ef5c854",
   "metadata": {},
   "outputs": [],
   "source": [
    "# Convert Result column to str for futher assignments\n",
    "df['Result'] = df['Result'].apply(str)\n",
    "df['Result'] = df['Result'].str.replace('-1','legitimate site') # replace binary number for a sophicated name\n",
    "df['Result'] = df['Result'].str.replace('1','phishing site')"
   ]
  },
  {
   "cell_type": "code",
   "execution_count": 5,
   "id": "df8ccefe-9a66-4dc3-81dc-bc10c9b14e61",
   "metadata": {},
   "outputs": [
    {
     "data": {
      "text/plain": [
       "phishing site      6157\n",
       "legitimate site    4898\n",
       "Name: Result, dtype: int64"
      ]
     },
     "execution_count": 5,
     "metadata": {},
     "output_type": "execute_result"
    }
   ],
   "source": [
    "# Explore Result variable\n",
    "df['Result'].value_counts()"
   ]
  },
  {
   "cell_type": "code",
   "execution_count": 6,
   "id": "a020a476-b71d-4711-91e3-28af73064d3e",
   "metadata": {},
   "outputs": [
    {
     "data": {
      "text/plain": [
       "having_IP_Address              0\n",
       "URL_Length                     0\n",
       "Shortining_Service             0\n",
       "having_At_Symbol               0\n",
       "double_slash_redirecting       0\n",
       "Prefix_Suffix                  0\n",
       "having_Sub_Domain              0\n",
       "SSLfinal_State                 0\n",
       "Domain_registeration_length    0\n",
       "Favicon                        0\n",
       "port                           0\n",
       "HTTPS_token                    0\n",
       "Request_URL                    0\n",
       "URL_of_Anchor                  0\n",
       "Links_in_tags                  0\n",
       "SFH                            0\n",
       "Submitting_to_email            0\n",
       "Abnormal_URL                   0\n",
       "Redirect                       0\n",
       "on_mouseover                   0\n",
       "RightClick                     0\n",
       "popUpWindow                    0\n",
       "Iframe                         0\n",
       "age_of_domain                  0\n",
       "DNSRecord                      0\n",
       "web_traffic                    0\n",
       "Page_Rank                      0\n",
       "Google_Index                   0\n",
       "Links_pointing_to_page         0\n",
       "Statistical_report             0\n",
       "Result                         0\n",
       "dtype: int64"
      ]
     },
     "execution_count": 6,
     "metadata": {},
     "output_type": "execute_result"
    }
   ],
   "source": [
    "# check missing values in variables\n",
    "df.isnull().sum()\n",
    "## We can see that there are no missing values in the dataset"
   ]
  },
  {
   "cell_type": "markdown",
   "id": "bae9d26c-44b5-4bfa-9c35-776829e70977",
   "metadata": {},
   "source": [
    "##### Declare feature vector and target variable"
   ]
  },
  {
   "cell_type": "code",
   "execution_count": 7,
   "id": "e503b795-d67f-47c7-a9a5-eeead6ae2955",
   "metadata": {},
   "outputs": [],
   "source": [
    "X = df.drop(['Result'], axis=1)\n",
    "\n",
    "y = df['Result']"
   ]
  },
  {
   "cell_type": "code",
   "execution_count": 8,
   "id": "a972dbe9-3a31-40e1-a821-053d48bbf985",
   "metadata": {},
   "outputs": [],
   "source": [
    "# split X and y into training and testing sets\n",
    "\n",
    "from sklearn.model_selection import train_test_split\n",
    "\n",
    "X_train, X_test, y_train, y_test = train_test_split(X, y, test_size = 0.33, random_state = 42)"
   ]
  },
  {
   "cell_type": "markdown",
   "id": "70b259e3-2ff8-4ad5-8367-abaa855099cb",
   "metadata": {},
   "source": [
    "##### Encode categorical variables"
   ]
  },
  {
   "cell_type": "code",
   "execution_count": 9,
   "id": "42a6be9f-328c-42fe-800b-be0a24eb06a9",
   "metadata": {},
   "outputs": [
    {
     "data": {
      "text/html": [
       "<div>\n",
       "<style scoped>\n",
       "    .dataframe tbody tr th:only-of-type {\n",
       "        vertical-align: middle;\n",
       "    }\n",
       "\n",
       "    .dataframe tbody tr th {\n",
       "        vertical-align: top;\n",
       "    }\n",
       "\n",
       "    .dataframe thead th {\n",
       "        text-align: right;\n",
       "    }\n",
       "</style>\n",
       "<table border=\"1\" class=\"dataframe\">\n",
       "  <thead>\n",
       "    <tr style=\"text-align: right;\">\n",
       "      <th></th>\n",
       "      <th>having_IP_Address</th>\n",
       "      <th>URL_Length</th>\n",
       "      <th>Shortining_Service</th>\n",
       "      <th>having_At_Symbol</th>\n",
       "      <th>double_slash_redirecting</th>\n",
       "      <th>Prefix_Suffix</th>\n",
       "      <th>having_Sub_Domain</th>\n",
       "      <th>SSLfinal_State</th>\n",
       "      <th>Domain_registeration_length</th>\n",
       "      <th>Favicon</th>\n",
       "      <th>...</th>\n",
       "      <th>RightClick</th>\n",
       "      <th>popUpWindow</th>\n",
       "      <th>Iframe</th>\n",
       "      <th>age_of_domain</th>\n",
       "      <th>DNSRecord</th>\n",
       "      <th>web_traffic</th>\n",
       "      <th>Page_Rank</th>\n",
       "      <th>Google_Index</th>\n",
       "      <th>Links_pointing_to_page</th>\n",
       "      <th>Statistical_report</th>\n",
       "    </tr>\n",
       "  </thead>\n",
       "  <tbody>\n",
       "    <tr>\n",
       "      <th>10498</th>\n",
       "      <td>1</td>\n",
       "      <td>-1</td>\n",
       "      <td>1</td>\n",
       "      <td>1</td>\n",
       "      <td>1</td>\n",
       "      <td>1</td>\n",
       "      <td>1</td>\n",
       "      <td>1</td>\n",
       "      <td>1</td>\n",
       "      <td>1</td>\n",
       "      <td>...</td>\n",
       "      <td>1</td>\n",
       "      <td>1</td>\n",
       "      <td>1</td>\n",
       "      <td>1</td>\n",
       "      <td>1</td>\n",
       "      <td>1</td>\n",
       "      <td>1</td>\n",
       "      <td>1</td>\n",
       "      <td>1</td>\n",
       "      <td>1</td>\n",
       "    </tr>\n",
       "    <tr>\n",
       "      <th>8673</th>\n",
       "      <td>2</td>\n",
       "      <td>-1</td>\n",
       "      <td>1</td>\n",
       "      <td>1</td>\n",
       "      <td>1</td>\n",
       "      <td>1</td>\n",
       "      <td>2</td>\n",
       "      <td>2</td>\n",
       "      <td>2</td>\n",
       "      <td>1</td>\n",
       "      <td>...</td>\n",
       "      <td>1</td>\n",
       "      <td>1</td>\n",
       "      <td>1</td>\n",
       "      <td>1</td>\n",
       "      <td>1</td>\n",
       "      <td>2</td>\n",
       "      <td>1</td>\n",
       "      <td>1</td>\n",
       "      <td>2</td>\n",
       "      <td>1</td>\n",
       "    </tr>\n",
       "    <tr>\n",
       "      <th>3429</th>\n",
       "      <td>1</td>\n",
       "      <td>-1</td>\n",
       "      <td>1</td>\n",
       "      <td>1</td>\n",
       "      <td>1</td>\n",
       "      <td>1</td>\n",
       "      <td>1</td>\n",
       "      <td>1</td>\n",
       "      <td>1</td>\n",
       "      <td>1</td>\n",
       "      <td>...</td>\n",
       "      <td>1</td>\n",
       "      <td>1</td>\n",
       "      <td>1</td>\n",
       "      <td>2</td>\n",
       "      <td>2</td>\n",
       "      <td>1</td>\n",
       "      <td>1</td>\n",
       "      <td>1</td>\n",
       "      <td>1</td>\n",
       "      <td>1</td>\n",
       "    </tr>\n",
       "    <tr>\n",
       "      <th>821</th>\n",
       "      <td>1</td>\n",
       "      <td>-1</td>\n",
       "      <td>1</td>\n",
       "      <td>1</td>\n",
       "      <td>1</td>\n",
       "      <td>2</td>\n",
       "      <td>1</td>\n",
       "      <td>2</td>\n",
       "      <td>1</td>\n",
       "      <td>1</td>\n",
       "      <td>...</td>\n",
       "      <td>1</td>\n",
       "      <td>1</td>\n",
       "      <td>1</td>\n",
       "      <td>1</td>\n",
       "      <td>1</td>\n",
       "      <td>2</td>\n",
       "      <td>1</td>\n",
       "      <td>1</td>\n",
       "      <td>2</td>\n",
       "      <td>1</td>\n",
       "    </tr>\n",
       "    <tr>\n",
       "      <th>2063</th>\n",
       "      <td>1</td>\n",
       "      <td>-1</td>\n",
       "      <td>1</td>\n",
       "      <td>1</td>\n",
       "      <td>1</td>\n",
       "      <td>1</td>\n",
       "      <td>1</td>\n",
       "      <td>2</td>\n",
       "      <td>1</td>\n",
       "      <td>1</td>\n",
       "      <td>...</td>\n",
       "      <td>1</td>\n",
       "      <td>1</td>\n",
       "      <td>1</td>\n",
       "      <td>2</td>\n",
       "      <td>1</td>\n",
       "      <td>2</td>\n",
       "      <td>2</td>\n",
       "      <td>1</td>\n",
       "      <td>1</td>\n",
       "      <td>1</td>\n",
       "    </tr>\n",
       "  </tbody>\n",
       "</table>\n",
       "<p>5 rows × 30 columns</p>\n",
       "</div>"
      ],
      "text/plain": [
       "       having_IP_Address  URL_Length  Shortining_Service  having_At_Symbol  \\\n",
       "10498                  1          -1                   1                 1   \n",
       "8673                   2          -1                   1                 1   \n",
       "3429                   1          -1                   1                 1   \n",
       "821                    1          -1                   1                 1   \n",
       "2063                   1          -1                   1                 1   \n",
       "\n",
       "       double_slash_redirecting  Prefix_Suffix  having_Sub_Domain  \\\n",
       "10498                         1              1                  1   \n",
       "8673                          1              1                  2   \n",
       "3429                          1              1                  1   \n",
       "821                           1              2                  1   \n",
       "2063                          1              1                  1   \n",
       "\n",
       "       SSLfinal_State  Domain_registeration_length  Favicon  ...  RightClick  \\\n",
       "10498               1                            1        1  ...           1   \n",
       "8673                2                            2        1  ...           1   \n",
       "3429                1                            1        1  ...           1   \n",
       "821                 2                            1        1  ...           1   \n",
       "2063                2                            1        1  ...           1   \n",
       "\n",
       "       popUpWindow  Iframe  age_of_domain  DNSRecord  web_traffic  Page_Rank  \\\n",
       "10498            1       1              1          1            1          1   \n",
       "8673             1       1              1          1            2          1   \n",
       "3429             1       1              2          2            1          1   \n",
       "821              1       1              1          1            2          1   \n",
       "2063             1       1              2          1            2          2   \n",
       "\n",
       "       Google_Index  Links_pointing_to_page  Statistical_report  \n",
       "10498             1                       1                   1  \n",
       "8673              1                       2                   1  \n",
       "3429              1                       1                   1  \n",
       "821               1                       2                   1  \n",
       "2063              1                       1                   1  \n",
       "\n",
       "[5 rows x 30 columns]"
      ]
     },
     "execution_count": 9,
     "metadata": {},
     "output_type": "execute_result"
    }
   ],
   "source": [
    "# import category encoders\n",
    "import category_encoders as ce\n",
    "# encode variables with ordinal encoding\n",
    "encoder = ce.OrdinalEncoder(cols=['having_IP_Address', 'Shortining_Service', \n",
    "             'having_At_Symbol', 'double_slash_redirecting', 'Prefix_Suffix', 'having_Sub_Domain', \n",
    "             'SSLfinal_State', 'Domain_registeration_length', 'Favicon',\n",
    "             'port', 'HTTPS_token', 'Request_URL', 'URL_of_Anchor', 'Links_in_tags',\n",
    "             'SFH', 'Submitting_to_email', 'Abnormal_URL','Redirect', 'on_mouseover',\n",
    "             'RightClick', 'popUpWindow', 'Iframe', 'age_of_domain', 'DNSRecord', 'web_traffic',\n",
    "             'Page_Rank', 'Google_Index', 'Links_pointing_to_page', 'Statistical_report'])\n",
    "\n",
    "X_train = encoder.fit_transform(X_train)\n",
    "X_test = encoder.transform(X_test)\n",
    "X_train.head()"
   ]
  },
  {
   "cell_type": "markdown",
   "id": "62d0e939-65e0-4bb3-aea3-38d849a78d97",
   "metadata": {},
   "source": [
    "#### Decision Tree Classifier with criterion gini index"
   ]
  },
  {
   "cell_type": "code",
   "execution_count": 10,
   "id": "2c027b15-2aaf-48fb-8137-23329698e780",
   "metadata": {},
   "outputs": [
    {
     "data": {
      "text/plain": [
       "DecisionTreeClassifier(max_depth=3, random_state=42)"
      ]
     },
     "execution_count": 10,
     "metadata": {},
     "output_type": "execute_result"
    }
   ],
   "source": [
    "# import DecisionTreeClassifier\n",
    "from sklearn.tree import DecisionTreeClassifier\n",
    "clf_gini = DecisionTreeClassifier(criterion='gini', max_depth=3, random_state=42)\n",
    "# fit the model\n",
    "clf_gini.fit(X_train, y_train)"
   ]
  },
  {
   "cell_type": "code",
   "execution_count": 11,
   "id": "498626c9-df2f-4daa-a6f5-7bb9879416a3",
   "metadata": {},
   "outputs": [],
   "source": [
    "# Predict the Test set results with criterion gini index\n",
    "y_pred_gini = clf_gini.predict(X_test)"
   ]
  },
  {
   "cell_type": "markdown",
   "id": "d7868f26-6e20-48a2-b3ca-92975f0345db",
   "metadata": {},
   "source": [
    "#### Check accuracy score with criterion gini index"
   ]
  },
  {
   "cell_type": "code",
   "execution_count": 12,
   "id": "e05e0f36-67aa-4686-819f-31fed1747f2d",
   "metadata": {},
   "outputs": [
    {
     "name": "stdout",
     "output_type": "stream",
     "text": [
      "Model accuracy score with criterion gini index: 0.8994\n"
     ]
    }
   ],
   "source": [
    "from sklearn.metrics import accuracy_score\n",
    "\n",
    "print('Model accuracy score with criterion gini index: {0:0.4f}'. format(accuracy_score(y_test, y_pred_gini)))"
   ]
  },
  {
   "cell_type": "markdown",
   "id": "c10fe221-89df-425c-9c08-b0da0816072c",
   "metadata": {},
   "source": [
    "#### Compare the train-set and test-set accuracy"
   ]
  },
  {
   "cell_type": "code",
   "execution_count": 13,
   "id": "65168285-f93d-4221-a470-5bb36e8f52e7",
   "metadata": {},
   "outputs": [
    {
     "data": {
      "text/plain": [
       "array(['legitimate site', 'phishing site', 'legitimate site', ...,\n",
       "       'legitimate site', 'phishing site', 'legitimate site'],\n",
       "      dtype=object)"
      ]
     },
     "execution_count": 13,
     "metadata": {},
     "output_type": "execute_result"
    }
   ],
   "source": [
    "y_pred_train_gini = clf_gini.predict(X_train)\n",
    "\n",
    "y_pred_train_gini"
   ]
  },
  {
   "cell_type": "code",
   "execution_count": 14,
   "id": "a0dfe9b4-4fe3-4ed6-b5d5-60092569fff0",
   "metadata": {},
   "outputs": [
    {
     "name": "stdout",
     "output_type": "stream",
     "text": [
      "Training-set accuracy score: 0.8975\n"
     ]
    }
   ],
   "source": [
    "print('Training-set accuracy score: {0:0.4f}'. format(accuracy_score(y_train, y_pred_train_gini)))"
   ]
  },
  {
   "cell_type": "markdown",
   "id": "3f301873-6200-425b-be83-327c46e5b480",
   "metadata": {},
   "source": [
    "#### Check for overfitting and underfitting"
   ]
  },
  {
   "cell_type": "code",
   "execution_count": 15,
   "id": "d645d85a-a484-49b5-be44-e0325c61e9c8",
   "metadata": {},
   "outputs": [
    {
     "name": "stdout",
     "output_type": "stream",
     "text": [
      "Training set score: 0.8975\n",
      "Test set score: 0.8994\n"
     ]
    }
   ],
   "source": [
    "# print the scores on training and test set\n",
    "\n",
    "print('Training set score: {:.4f}'.format(clf_gini.score(X_train, y_train)))\n",
    "\n",
    "print('Test set score: {:.4f}'.format(clf_gini.score(X_test, y_test)))"
   ]
  },
  {
   "cell_type": "markdown",
   "id": "8eeedfa6-beed-4cb5-8e29-0b6f275941c6",
   "metadata": {},
   "source": [
    "#### Visualize decision-trees"
   ]
  },
  {
   "cell_type": "code",
   "execution_count": 16,
   "id": "acd024c1-7cd9-4e4c-b26f-918fa0f0b7f7",
   "metadata": {},
   "outputs": [
    {
     "data": {
      "text/plain": [
       "[Text(306.90000000000003, 380.52, 'X[7] <= 1.5\\ngini = 0.495\\nsamples = 7406\\nvalue = [3333, 4073]'),\n",
       " Text(167.4, 271.8, 'X[5] <= 1.5\\ngini = 0.237\\nsamples = 2420\\nvalue = [2087, 333]'),\n",
       " Text(111.60000000000001, 163.07999999999998, 'X[13] <= 1.5\\ngini = 0.198\\nsamples = 2349\\nvalue = [2087, 262]'),\n",
       " Text(55.800000000000004, 54.360000000000014, 'gini = 0.367\\nsamples = 808\\nvalue = [612, 196]'),\n",
       " Text(167.4, 54.360000000000014, 'gini = 0.082\\nsamples = 1541\\nvalue = [1475, 66]'),\n",
       " Text(223.20000000000002, 163.07999999999998, 'gini = 0.0\\nsamples = 71\\nvalue = [0, 71]'),\n",
       " Text(446.40000000000003, 271.8, 'X[7] <= 2.5\\ngini = 0.375\\nsamples = 4986\\nvalue = [1246, 3740]'),\n",
       " Text(334.8, 163.07999999999998, 'X[25] <= 1.5\\ngini = 0.202\\nsamples = 4201\\nvalue = [479, 3722]'),\n",
       " Text(279.0, 54.360000000000014, 'gini = 0.46\\nsamples = 774\\nvalue = [278, 496]'),\n",
       " Text(390.6, 54.360000000000014, 'gini = 0.11\\nsamples = 3427\\nvalue = [201, 3226]'),\n",
       " Text(558.0, 163.07999999999998, 'X[13] <= 1.5\\ngini = 0.045\\nsamples = 785\\nvalue = [767, 18]'),\n",
       " Text(502.20000000000005, 54.360000000000014, 'gini = 0.266\\nsamples = 114\\nvalue = [96, 18]'),\n",
       " Text(613.8000000000001, 54.360000000000014, 'gini = 0.0\\nsamples = 671\\nvalue = [671, 0]')]"
      ]
     },
     "execution_count": 16,
     "metadata": {},
     "output_type": "execute_result"
    },
    {
     "data": {
      "image/png": "[encoded data removed]",
      "text/plain": [
       "<Figure size 864x576 with 1 Axes>"
      ]
     },
     "metadata": {
      "needs_background": "light"
     },
     "output_type": "display_data"
    }
   ],
   "source": [
    "plt.figure(figsize=(12,8))\n",
    "\n",
    "from sklearn import tree\n",
    "\n",
    "tree.plot_tree(clf_gini.fit(X_train, y_train)) "
   ]
  },
  {
   "cell_type": "markdown",
   "id": "3180526d-bb0c-4c6a-a155-785bf98dc802",
   "metadata": {},
   "source": [
    "#### Visualize decision-trees with graphviz"
   ]
  },
  {
   "cell_type": "code",
   "execution_count": 19,
   "id": "5846c53c-c264-4bc4-850c-f2322ea8a025",
   "metadata": {},
   "outputs": [
    {
     "data": {
      "image/svg+xml": [
       "<?xml version=\"1.0\" encoding=\"UTF-8\" standalone=\"no\"?>\n",
       "<!DOCTYPE svg PUBLIC \"-//W3C//DTD SVG 1.1//EN\"\n",
       " \"http://www.w3.org/Graphics/SVG/1.1/DTD/svg11.dtd\">\n",
       "<!-- Generated by graphviz version 2.50.0 (20211204.2007)\n",
       " -->\n",
       "<!-- Title: Tree Pages: 1 -->\n",
       "<svg width=\"997pt\" height=\"433pt\"\n",
       " viewBox=\"0.00 0.00 997.00 433.00\" xmlns=\"http://www.w3.org/2000/svg\" xmlns:xlink=\"http://www.w3.org/1999/xlink\">\n",
       "<g id=\"graph0\" class=\"graph\" transform=\"scale(1 1) rotate(0) translate(4 429)\">\n",
       "<title>Tree</title>\n",
       "<polygon fill=\"white\" stroke=\"transparent\" points=\"-4,4 -4,-429 993,-429 993,4 -4,4\"/>\n",
       "<!-- 0 -->\n",
       "<g id=\"node1\" class=\"node\">\n",
       "<title>0</title>\n",
       "<path fill=\"#dbedfa\" stroke=\"black\" d=\"M553,-425C553,-425 431,-425 431,-425 425,-425 419,-419 419,-413 419,-413 419,-354 419,-354 419,-348 425,-342 431,-342 431,-342 553,-342 553,-342 559,-342 565,-348 565,-354 565,-354 565,-413 565,-413 565,-419 559,-425 553,-425\"/>\n",
       "<text text-anchor=\"start\" x=\"427\" y=\"-409.8\" font-family=\"Helvetica,sans-Serif\" font-size=\"14.00\">SSLfinal_State ≤ 1.5</text>\n",
       "<text text-anchor=\"start\" x=\"454.5\" y=\"-394.8\" font-family=\"Helvetica,sans-Serif\" font-size=\"14.00\">gini = 0.495</text>\n",
       "<text text-anchor=\"start\" x=\"440.5\" y=\"-379.8\" font-family=\"Helvetica,sans-Serif\" font-size=\"14.00\">samples = 7406</text>\n",
       "<text text-anchor=\"start\" x=\"427\" y=\"-364.8\" font-family=\"Helvetica,sans-Serif\" font-size=\"14.00\">value = [3333, 4073]</text>\n",
       "<text text-anchor=\"start\" x=\"428\" y=\"-349.8\" font-family=\"Helvetica,sans-Serif\" font-size=\"14.00\">class = phishing site</text>\n",
       "</g>\n",
       "<!-- 1 -->\n",
       "<g id=\"node2\" class=\"node\">\n",
       "<title>1</title>\n",
       "<path fill=\"#e99559\" stroke=\"black\" d=\"M473,-306C473,-306 345,-306 345,-306 339,-306 333,-300 333,-294 333,-294 333,-235 333,-235 333,-229 339,-223 345,-223 345,-223 473,-223 473,-223 479,-223 485,-229 485,-235 485,-235 485,-294 485,-294 485,-300 479,-306 473,-306\"/>\n",
       "<text text-anchor=\"start\" x=\"350.5\" y=\"-290.8\" font-family=\"Helvetica,sans-Serif\" font-size=\"14.00\">Prefix_Suffix ≤ 1.5</text>\n",
       "<text text-anchor=\"start\" x=\"371.5\" y=\"-275.8\" font-family=\"Helvetica,sans-Serif\" font-size=\"14.00\">gini = 0.237</text>\n",
       "<text text-anchor=\"start\" x=\"357.5\" y=\"-260.8\" font-family=\"Helvetica,sans-Serif\" font-size=\"14.00\">samples = 2420</text>\n",
       "<text text-anchor=\"start\" x=\"348\" y=\"-245.8\" font-family=\"Helvetica,sans-Serif\" font-size=\"14.00\">value = [2087, 333]</text>\n",
       "<text text-anchor=\"start\" x=\"341\" y=\"-230.8\" font-family=\"Helvetica,sans-Serif\" font-size=\"14.00\">class = legitimate site</text>\n",
       "</g>\n",
       "<!-- 0&#45;&gt;1 -->\n",
       "<g id=\"edge1\" class=\"edge\">\n",
       "<title>0&#45;&gt;1</title>\n",
       "<path fill=\"none\" stroke=\"black\" d=\"M463.2,-341.91C456.89,-333.01 450.15,-323.51 443.64,-314.33\"/>\n",
       "<polygon fill=\"black\" stroke=\"black\" points=\"446.39,-312.15 437.75,-306.02 440.68,-316.2 446.39,-312.15\"/>\n",
       "<text text-anchor=\"middle\" x=\"433.56\" y=\"-326.97\" font-family=\"Helvetica,sans-Serif\" font-size=\"14.00\">True</text>\n",
       "</g>\n",
       "<!-- 6 -->\n",
       "<g id=\"node7\" class=\"node\">\n",
       "<title>6</title>\n",
       "<path fill=\"#7bbeee\" stroke=\"black\" d=\"M637,-306C637,-306 515,-306 515,-306 509,-306 503,-300 503,-294 503,-294 503,-235 503,-235 503,-229 509,-223 515,-223 515,-223 637,-223 637,-223 643,-223 649,-229 649,-235 649,-235 649,-294 649,-294 649,-300 643,-306 637,-306\"/>\n",
       "<text text-anchor=\"start\" x=\"511\" y=\"-290.8\" font-family=\"Helvetica,sans-Serif\" font-size=\"14.00\">SSLfinal_State ≤ 2.5</text>\n",
       "<text text-anchor=\"start\" x=\"538.5\" y=\"-275.8\" font-family=\"Helvetica,sans-Serif\" font-size=\"14.00\">gini = 0.375</text>\n",
       "<text text-anchor=\"start\" x=\"524.5\" y=\"-260.8\" font-family=\"Helvetica,sans-Serif\" font-size=\"14.00\">samples = 4986</text>\n",
       "<text text-anchor=\"start\" x=\"511\" y=\"-245.8\" font-family=\"Helvetica,sans-Serif\" font-size=\"14.00\">value = [1246, 3740]</text>\n",
       "<text text-anchor=\"start\" x=\"512\" y=\"-230.8\" font-family=\"Helvetica,sans-Serif\" font-size=\"14.00\">class = phishing site</text>\n",
       "</g>\n",
       "<!-- 0&#45;&gt;6 -->\n",
       "<g id=\"edge6\" class=\"edge\">\n",
       "<title>0&#45;&gt;6</title>\n",
       "<path fill=\"none\" stroke=\"black\" d=\"M521.14,-341.91C527.53,-333.01 534.35,-323.51 540.94,-314.33\"/>\n",
       "<polygon fill=\"black\" stroke=\"black\" points=\"543.92,-316.19 546.91,-306.02 538.23,-312.1 543.92,-316.19\"/>\n",
       "<text text-anchor=\"middle\" x=\"550.96\" y=\"-326.99\" font-family=\"Helvetica,sans-Serif\" font-size=\"14.00\">False</text>\n",
       "</g>\n",
       "<!-- 2 -->\n",
       "<g id=\"node3\" class=\"node\">\n",
       "<title>2</title>\n",
       "<path fill=\"#e89152\" stroke=\"black\" d=\"M308.5,-187C308.5,-187 177.5,-187 177.5,-187 171.5,-187 165.5,-181 165.5,-175 165.5,-175 165.5,-116 165.5,-116 165.5,-110 171.5,-104 177.5,-104 177.5,-104 308.5,-104 308.5,-104 314.5,-104 320.5,-110 320.5,-116 320.5,-116 320.5,-175 320.5,-175 320.5,-181 314.5,-187 308.5,-187\"/>\n",
       "<text text-anchor=\"start\" x=\"173.5\" y=\"-171.8\" font-family=\"Helvetica,sans-Serif\" font-size=\"14.00\">URL_of_Anchor ≤ 1.5</text>\n",
       "<text text-anchor=\"start\" x=\"205.5\" y=\"-156.8\" font-family=\"Helvetica,sans-Serif\" font-size=\"14.00\">gini = 0.198</text>\n",
       "<text text-anchor=\"start\" x=\"191.5\" y=\"-141.8\" font-family=\"Helvetica,sans-Serif\" font-size=\"14.00\">samples = 2349</text>\n",
       "<text text-anchor=\"start\" x=\"182\" y=\"-126.8\" font-family=\"Helvetica,sans-Serif\" font-size=\"14.00\">value = [2087, 262]</text>\n",
       "<text text-anchor=\"start\" x=\"175\" y=\"-111.8\" font-family=\"Helvetica,sans-Serif\" font-size=\"14.00\">class = legitimate site</text>\n",
       "</g>\n",
       "<!-- 1&#45;&gt;2 -->\n",
       "<g id=\"edge2\" class=\"edge\">\n",
       "<title>1&#45;&gt;2</title>\n",
       "<path fill=\"none\" stroke=\"black\" d=\"M351.41,-222.91C337.63,-213.2 322.82,-202.76 308.71,-192.81\"/>\n",
       "<polygon fill=\"black\" stroke=\"black\" points=\"310.68,-189.92 300.49,-187.02 306.65,-195.64 310.68,-189.92\"/>\n",
       "</g>\n",
       "<!-- 5 -->\n",
       "<g id=\"node6\" class=\"node\">\n",
       "<title>5</title>\n",
       "<path fill=\"#399de5\" stroke=\"black\" d=\"M471,-179.5C471,-179.5 351,-179.5 351,-179.5 345,-179.5 339,-173.5 339,-167.5 339,-167.5 339,-123.5 339,-123.5 339,-117.5 345,-111.5 351,-111.5 351,-111.5 471,-111.5 471,-111.5 477,-111.5 483,-117.5 483,-123.5 483,-123.5 483,-167.5 483,-167.5 483,-173.5 477,-179.5 471,-179.5\"/>\n",
       "<text text-anchor=\"start\" x=\"382\" y=\"-164.3\" font-family=\"Helvetica,sans-Serif\" font-size=\"14.00\">gini = 0.0</text>\n",
       "<text text-anchor=\"start\" x=\"367.5\" y=\"-149.3\" font-family=\"Helvetica,sans-Serif\" font-size=\"14.00\">samples = 71</text>\n",
       "<text text-anchor=\"start\" x=\"366.5\" y=\"-134.3\" font-family=\"Helvetica,sans-Serif\" font-size=\"14.00\">value = [0, 71]</text>\n",
       "<text text-anchor=\"start\" x=\"347\" y=\"-119.3\" font-family=\"Helvetica,sans-Serif\" font-size=\"14.00\">class = phishing site</text>\n",
       "</g>\n",
       "<!-- 1&#45;&gt;5 -->\n",
       "<g id=\"edge5\" class=\"edge\">\n",
       "<title>1&#45;&gt;5</title>\n",
       "<path fill=\"none\" stroke=\"black\" d=\"M409.69,-222.91C409.88,-212.2 410.07,-200.62 410.26,-189.78\"/>\n",
       "<polygon fill=\"black\" stroke=\"black\" points=\"413.76,-189.73 410.43,-179.67 406.76,-189.61 413.76,-189.73\"/>\n",
       "</g>\n",
       "<!-- 3 -->\n",
       "<g id=\"node4\" class=\"node\">\n",
       "<title>3</title>\n",
       "<path fill=\"#eda978\" stroke=\"black\" d=\"M140,-68C140,-68 12,-68 12,-68 6,-68 0,-62 0,-56 0,-56 0,-12 0,-12 0,-6 6,0 12,0 12,0 140,0 140,0 146,0 152,-6 152,-12 152,-12 152,-56 152,-56 152,-62 146,-68 140,-68\"/>\n",
       "<text text-anchor=\"start\" x=\"38.5\" y=\"-52.8\" font-family=\"Helvetica,sans-Serif\" font-size=\"14.00\">gini = 0.367</text>\n",
       "<text text-anchor=\"start\" x=\"28.5\" y=\"-37.8\" font-family=\"Helvetica,sans-Serif\" font-size=\"14.00\">samples = 808</text>\n",
       "<text text-anchor=\"start\" x=\"19\" y=\"-22.8\" font-family=\"Helvetica,sans-Serif\" font-size=\"14.00\">value = [612, 196]</text>\n",
       "<text text-anchor=\"start\" x=\"8\" y=\"-7.8\" font-family=\"Helvetica,sans-Serif\" font-size=\"14.00\">class = legitimate site</text>\n",
       "</g>\n",
       "<!-- 2&#45;&gt;3 -->\n",
       "<g id=\"edge3\" class=\"edge\">\n",
       "<title>2&#45;&gt;3</title>\n",
       "<path fill=\"none\" stroke=\"black\" d=\"M180.82,-103.73C165.85,-93.92 149.91,-83.46 135.1,-73.75\"/>\n",
       "<polygon fill=\"black\" stroke=\"black\" points=\"136.8,-70.68 126.52,-68.13 132.96,-76.54 136.8,-70.68\"/>\n",
       "</g>\n",
       "<!-- 4 -->\n",
       "<g id=\"node5\" class=\"node\">\n",
       "<title>4</title>\n",
       "<path fill=\"#e68742\" stroke=\"black\" d=\"M310,-68C310,-68 182,-68 182,-68 176,-68 170,-62 170,-56 170,-56 170,-12 170,-12 170,-6 176,0 182,0 182,0 310,0 310,0 316,0 322,-6 322,-12 322,-12 322,-56 322,-56 322,-62 316,-68 310,-68\"/>\n",
       "<text text-anchor=\"start\" x=\"208.5\" y=\"-52.8\" font-family=\"Helvetica,sans-Serif\" font-size=\"14.00\">gini = 0.082</text>\n",
       "<text text-anchor=\"start\" x=\"194.5\" y=\"-37.8\" font-family=\"Helvetica,sans-Serif\" font-size=\"14.00\">samples = 1541</text>\n",
       "<text text-anchor=\"start\" x=\"189\" y=\"-22.8\" font-family=\"Helvetica,sans-Serif\" font-size=\"14.00\">value = [1475, 66]</text>\n",
       "<text text-anchor=\"start\" x=\"178\" y=\"-7.8\" font-family=\"Helvetica,sans-Serif\" font-size=\"14.00\">class = legitimate site</text>\n",
       "</g>\n",
       "<!-- 2&#45;&gt;4 -->\n",
       "<g id=\"edge4\" class=\"edge\">\n",
       "<title>2&#45;&gt;4</title>\n",
       "<path fill=\"none\" stroke=\"black\" d=\"M244.12,-103.73C244.34,-95.52 244.58,-86.86 244.81,-78.56\"/>\n",
       "<polygon fill=\"black\" stroke=\"black\" points=\"248.31,-78.39 245.09,-68.3 241.32,-78.2 248.31,-78.39\"/>\n",
       "</g>\n",
       "<!-- 7 -->\n",
       "<g id=\"node8\" class=\"node\">\n",
       "<title>7</title>\n",
       "<path fill=\"#52aae8\" stroke=\"black\" d=\"M635,-187C635,-187 515,-187 515,-187 509,-187 503,-181 503,-175 503,-175 503,-116 503,-116 503,-110 509,-104 515,-104 515,-104 635,-104 635,-104 641,-104 647,-110 647,-116 647,-116 647,-175 647,-175 647,-181 641,-187 635,-187\"/>\n",
       "<text text-anchor=\"start\" x=\"522\" y=\"-171.8\" font-family=\"Helvetica,sans-Serif\" font-size=\"14.00\">web_traffic ≤ 1.5</text>\n",
       "<text text-anchor=\"start\" x=\"537.5\" y=\"-156.8\" font-family=\"Helvetica,sans-Serif\" font-size=\"14.00\">gini = 0.202</text>\n",
       "<text text-anchor=\"start\" x=\"523.5\" y=\"-141.8\" font-family=\"Helvetica,sans-Serif\" font-size=\"14.00\">samples = 4201</text>\n",
       "<text text-anchor=\"start\" x=\"514\" y=\"-126.8\" font-family=\"Helvetica,sans-Serif\" font-size=\"14.00\">value = [479, 3722]</text>\n",
       "<text text-anchor=\"start\" x=\"511\" y=\"-111.8\" font-family=\"Helvetica,sans-Serif\" font-size=\"14.00\">class = phishing site</text>\n",
       "</g>\n",
       "<!-- 6&#45;&gt;7 -->\n",
       "<g id=\"edge7\" class=\"edge\">\n",
       "<title>6&#45;&gt;7</title>\n",
       "<path fill=\"none\" stroke=\"black\" d=\"M575.65,-222.91C575.58,-214.65 575.51,-205.86 575.43,-197.3\"/>\n",
       "<polygon fill=\"black\" stroke=\"black\" points=\"578.93,-196.99 575.35,-187.02 571.93,-197.05 578.93,-196.99\"/>\n",
       "</g>\n",
       "<!-- 10 -->\n",
       "<g id=\"node11\" class=\"node\">\n",
       "<title>10</title>\n",
       "<path fill=\"#e6843e\" stroke=\"black\" d=\"M808.5,-187C808.5,-187 677.5,-187 677.5,-187 671.5,-187 665.5,-181 665.5,-175 665.5,-175 665.5,-116 665.5,-116 665.5,-110 671.5,-104 677.5,-104 677.5,-104 808.5,-104 808.5,-104 814.5,-104 820.5,-110 820.5,-116 820.5,-116 820.5,-175 820.5,-175 820.5,-181 814.5,-187 808.5,-187\"/>\n",
       "<text text-anchor=\"start\" x=\"673.5\" y=\"-171.8\" font-family=\"Helvetica,sans-Serif\" font-size=\"14.00\">URL_of_Anchor ≤ 1.5</text>\n",
       "<text text-anchor=\"start\" x=\"705.5\" y=\"-156.8\" font-family=\"Helvetica,sans-Serif\" font-size=\"14.00\">gini = 0.045</text>\n",
       "<text text-anchor=\"start\" x=\"695.5\" y=\"-141.8\" font-family=\"Helvetica,sans-Serif\" font-size=\"14.00\">samples = 785</text>\n",
       "<text text-anchor=\"start\" x=\"690\" y=\"-126.8\" font-family=\"Helvetica,sans-Serif\" font-size=\"14.00\">value = [767, 18]</text>\n",
       "<text text-anchor=\"start\" x=\"675\" y=\"-111.8\" font-family=\"Helvetica,sans-Serif\" font-size=\"14.00\">class = legitimate site</text>\n",
       "</g>\n",
       "<!-- 6&#45;&gt;10 -->\n",
       "<g id=\"edge10\" class=\"edge\">\n",
       "<title>6&#45;&gt;10</title>\n",
       "<path fill=\"none\" stroke=\"black\" d=\"M633.94,-222.91C647.8,-213.2 662.7,-202.76 676.9,-192.81\"/>\n",
       "<polygon fill=\"black\" stroke=\"black\" points=\"678.98,-195.63 685.16,-187.02 674.96,-189.89 678.98,-195.63\"/>\n",
       "</g>\n",
       "<!-- 8 -->\n",
       "<g id=\"node9\" class=\"node\">\n",
       "<title>8</title>\n",
       "<path fill=\"#a8d4f4\" stroke=\"black\" d=\"M474,-68C474,-68 354,-68 354,-68 348,-68 342,-62 342,-56 342,-56 342,-12 342,-12 342,-6 348,0 354,0 354,0 474,0 474,0 480,0 486,-6 486,-12 486,-12 486,-56 486,-56 486,-62 480,-68 474,-68\"/>\n",
       "<text text-anchor=\"start\" x=\"380.5\" y=\"-52.8\" font-family=\"Helvetica,sans-Serif\" font-size=\"14.00\">gini = 0.46</text>\n",
       "<text text-anchor=\"start\" x=\"366.5\" y=\"-37.8\" font-family=\"Helvetica,sans-Serif\" font-size=\"14.00\">samples = 774</text>\n",
       "<text text-anchor=\"start\" x=\"357\" y=\"-22.8\" font-family=\"Helvetica,sans-Serif\" font-size=\"14.00\">value = [278, 496]</text>\n",
       "<text text-anchor=\"start\" x=\"350\" y=\"-7.8\" font-family=\"Helvetica,sans-Serif\" font-size=\"14.00\">class = phishing site</text>\n",
       "</g>\n",
       "<!-- 7&#45;&gt;8 -->\n",
       "<g id=\"edge8\" class=\"edge\">\n",
       "<title>7&#45;&gt;8</title>\n",
       "<path fill=\"none\" stroke=\"black\" d=\"M515.05,-103.73C500.63,-93.92 485.26,-83.46 470.97,-73.75\"/>\n",
       "<polygon fill=\"black\" stroke=\"black\" points=\"472.94,-70.85 462.7,-68.13 469.01,-76.64 472.94,-70.85\"/>\n",
       "</g>\n",
       "<!-- 9 -->\n",
       "<g id=\"node10\" class=\"node\">\n",
       "<title>9</title>\n",
       "<path fill=\"#45a3e7\" stroke=\"black\" d=\"M636,-68C636,-68 516,-68 516,-68 510,-68 504,-62 504,-56 504,-56 504,-12 504,-12 504,-6 510,0 516,0 516,0 636,0 636,0 642,0 648,-6 648,-12 648,-12 648,-56 648,-56 648,-62 642,-68 636,-68\"/>\n",
       "<text text-anchor=\"start\" x=\"542.5\" y=\"-52.8\" font-family=\"Helvetica,sans-Serif\" font-size=\"14.00\">gini = 0.11</text>\n",
       "<text text-anchor=\"start\" x=\"524.5\" y=\"-37.8\" font-family=\"Helvetica,sans-Serif\" font-size=\"14.00\">samples = 3427</text>\n",
       "<text text-anchor=\"start\" x=\"515\" y=\"-22.8\" font-family=\"Helvetica,sans-Serif\" font-size=\"14.00\">value = [201, 3226]</text>\n",
       "<text text-anchor=\"start\" x=\"512\" y=\"-7.8\" font-family=\"Helvetica,sans-Serif\" font-size=\"14.00\">class = phishing site</text>\n",
       "</g>\n",
       "<!-- 7&#45;&gt;9 -->\n",
       "<g id=\"edge9\" class=\"edge\">\n",
       "<title>7&#45;&gt;9</title>\n",
       "<path fill=\"none\" stroke=\"black\" d=\"M575.37,-103.73C575.45,-95.52 575.53,-86.86 575.6,-78.56\"/>\n",
       "<polygon fill=\"black\" stroke=\"black\" points=\"579.1,-78.33 575.7,-68.3 572.1,-78.27 579.1,-78.33\"/>\n",
       "</g>\n",
       "<!-- 11 -->\n",
       "<g id=\"node12\" class=\"node\">\n",
       "<title>11</title>\n",
       "<path fill=\"#ea995e\" stroke=\"black\" d=\"M807,-68C807,-68 679,-68 679,-68 673,-68 667,-62 667,-56 667,-56 667,-12 667,-12 667,-6 673,0 679,0 679,0 807,0 807,0 813,0 819,-6 819,-12 819,-12 819,-56 819,-56 819,-62 813,-68 807,-68\"/>\n",
       "<text text-anchor=\"start\" x=\"705.5\" y=\"-52.8\" font-family=\"Helvetica,sans-Serif\" font-size=\"14.00\">gini = 0.266</text>\n",
       "<text text-anchor=\"start\" x=\"695.5\" y=\"-37.8\" font-family=\"Helvetica,sans-Serif\" font-size=\"14.00\">samples = 114</text>\n",
       "<text text-anchor=\"start\" x=\"694.5\" y=\"-22.8\" font-family=\"Helvetica,sans-Serif\" font-size=\"14.00\">value = [96, 18]</text>\n",
       "<text text-anchor=\"start\" x=\"675\" y=\"-7.8\" font-family=\"Helvetica,sans-Serif\" font-size=\"14.00\">class = legitimate site</text>\n",
       "</g>\n",
       "<!-- 10&#45;&gt;11 -->\n",
       "<g id=\"edge11\" class=\"edge\">\n",
       "<title>10&#45;&gt;11</title>\n",
       "<path fill=\"none\" stroke=\"black\" d=\"M743,-103.73C743,-95.52 743,-86.86 743,-78.56\"/>\n",
       "<polygon fill=\"black\" stroke=\"black\" points=\"746.5,-78.3 743,-68.3 739.5,-78.3 746.5,-78.3\"/>\n",
       "</g>\n",
       "<!-- 12 -->\n",
       "<g id=\"node13\" class=\"node\">\n",
       "<title>12</title>\n",
       "<path fill=\"#e58139\" stroke=\"black\" d=\"M977,-68C977,-68 849,-68 849,-68 843,-68 837,-62 837,-56 837,-56 837,-12 837,-12 837,-6 843,0 849,0 849,0 977,0 977,0 983,0 989,-6 989,-12 989,-12 989,-56 989,-56 989,-62 983,-68 977,-68\"/>\n",
       "<text text-anchor=\"start\" x=\"884\" y=\"-52.8\" font-family=\"Helvetica,sans-Serif\" font-size=\"14.00\">gini = 0.0</text>\n",
       "<text text-anchor=\"start\" x=\"865.5\" y=\"-37.8\" font-family=\"Helvetica,sans-Serif\" font-size=\"14.00\">samples = 671</text>\n",
       "<text text-anchor=\"start\" x=\"864.5\" y=\"-22.8\" font-family=\"Helvetica,sans-Serif\" font-size=\"14.00\">value = [671, 0]</text>\n",
       "<text text-anchor=\"start\" x=\"845\" y=\"-7.8\" font-family=\"Helvetica,sans-Serif\" font-size=\"14.00\">class = legitimate site</text>\n",
       "</g>\n",
       "<!-- 10&#45;&gt;12 -->\n",
       "<g id=\"edge12\" class=\"edge\">\n",
       "<title>10&#45;&gt;12</title>\n",
       "<path fill=\"none\" stroke=\"black\" d=\"M806.3,-103.73C821.53,-93.92 837.76,-83.46 852.84,-73.75\"/>\n",
       "<polygon fill=\"black\" stroke=\"black\" points=\"855.06,-76.48 861.57,-68.13 851.27,-70.6 855.06,-76.48\"/>\n",
       "</g>\n",
       "</g>\n",
       "</svg>\n"
      ],
      "text/plain": [
       "<graphviz.sources.Source at 0x250834fc8b0>"
      ]
     },
     "execution_count": 19,
     "metadata": {},
     "output_type": "execute_result"
    }
   ],
   "source": [
    "# Plotting Decision Tree with with graphviz\n",
    "import os\n",
    "os.environ[\"PATH\"] += os.pathsep + 'C:/Program Files (x86)/Graphviz/bin/'\n",
    "target = list(df['Result'].unique())\n",
    "feature_names = list(X.columns)\n",
    "import graphviz\n",
    "dot_data = tree.export_graphviz(clf_gini,\n",
    "                                out_file=None, \n",
    "                      feature_names=feature_names,  \n",
    "                      class_names=target,  \n",
    "                      filled=True, rounded=True,  \n",
    "                      special_characters=True)  \n",
    "graph = graphviz.Source(dot_data)  \n",
    "\n",
    "graph"
   ]
  },
  {
   "cell_type": "markdown",
   "id": "cc72e5b0-6702-4e8e-a537-04d10d834a2e",
   "metadata": {},
   "source": [
    "#### Decision Tree Classifier with criterion entropy"
   ]
  },
  {
   "cell_type": "code",
   "execution_count": 21,
   "id": "80eba676-559b-4025-ac43-50bafa02a778",
   "metadata": {},
   "outputs": [
    {
     "data": {
      "text/plain": [
       "DecisionTreeClassifier(criterion='entropy', max_depth=3, random_state=0)"
      ]
     },
     "execution_count": 21,
     "metadata": {},
     "output_type": "execute_result"
    }
   ],
   "source": [
    "# instantiate the DecisionTreeClassifier model with criterion entropy\n",
    "\n",
    "clf_en = DecisionTreeClassifier(criterion='entropy', max_depth=3, random_state=0)\n",
    "\n",
    "\n",
    "# fit the model\n",
    "clf_en.fit(X_train, y_train)"
   ]
  },
  {
   "cell_type": "markdown",
   "id": "5fd012c5-d8bf-4274-afa4-5e1e64f40790",
   "metadata": {},
   "source": [
    "#### Predict the Test set results with criterion entropy"
   ]
  },
  {
   "cell_type": "code",
   "execution_count": 22,
   "id": "ea67ae20-1be8-41b2-a97b-441bf7b70b9f",
   "metadata": {},
   "outputs": [],
   "source": [
    "y_pred_en = clf_en.predict(X_test)"
   ]
  },
  {
   "cell_type": "markdown",
   "id": "a7e8d49f-6e04-4d69-85f8-c94a240f0af3",
   "metadata": {},
   "source": [
    "#### Check accuracy score with criterion entropy"
   ]
  },
  {
   "cell_type": "code",
   "execution_count": 23,
   "id": "f335cc89-2b88-4a7e-91c7-9b785f738438",
   "metadata": {},
   "outputs": [
    {
     "name": "stdout",
     "output_type": "stream",
     "text": [
      "Model accuracy score with criterion entropy: 0.8994\n"
     ]
    }
   ],
   "source": [
    "from sklearn.metrics import accuracy_score\n",
    "\n",
    "print('Model accuracy score with criterion entropy: {0:0.4f}'. format(accuracy_score(y_test, y_pred_en)))"
   ]
  },
  {
   "cell_type": "markdown",
   "id": "5350e0a7-7af8-4a25-8c3d-5a8bc346c7c4",
   "metadata": {},
   "source": [
    "#### Compare the train-set and test-set accuracy"
   ]
  },
  {
   "cell_type": "code",
   "execution_count": 24,
   "id": "a676a571-d24a-4c37-b321-575f8d89a9d9",
   "metadata": {},
   "outputs": [
    {
     "data": {
      "text/plain": [
       "array(['legitimate site', 'phishing site', 'legitimate site', ...,\n",
       "       'legitimate site', 'phishing site', 'legitimate site'],\n",
       "      dtype=object)"
      ]
     },
     "execution_count": 24,
     "metadata": {},
     "output_type": "execute_result"
    }
   ],
   "source": [
    "y_pred_train_en = clf_en.predict(X_train)\n",
    "\n",
    "y_pred_train_en"
   ]
  },
  {
   "cell_type": "code",
   "execution_count": 25,
   "id": "f947982a-294c-4c7b-8f49-6d66f291aa69",
   "metadata": {},
   "outputs": [
    {
     "name": "stdout",
     "output_type": "stream",
     "text": [
      "Training-set accuracy score: 0.8975\n"
     ]
    }
   ],
   "source": [
    "print('Training-set accuracy score: {0:0.4f}'. format(accuracy_score(y_train, y_pred_train_en)))"
   ]
  },
  {
   "cell_type": "markdown",
   "id": "eea04369-b8d1-4e9a-a186-4490b2a1d770",
   "metadata": {},
   "source": [
    "#### Check for overfitting and underfitting"
   ]
  },
  {
   "cell_type": "code",
   "execution_count": 26,
   "id": "ce0acfc0-8b22-423b-996f-236063c48c3b",
   "metadata": {},
   "outputs": [
    {
     "name": "stdout",
     "output_type": "stream",
     "text": [
      "Training set score: 0.8975\n",
      "Test set score: 0.8994\n"
     ]
    }
   ],
   "source": [
    "print('Training set score: {:.4f}'.format(clf_en.score(X_train, y_train)))\n",
    "\n",
    "print('Test set score: {:.4f}'.format(clf_en.score(X_test, y_test)))"
   ]
  },
  {
   "cell_type": "markdown",
   "id": "4740b691-ab61-4b11-a78e-361dfc90122c",
   "metadata": {},
   "source": [
    "###### We can see that the training-set score and test-set score is same as above. The training-set accuracy score is 0.8975 while the test-set accuracy to be 0.8994. These two values are quite comparable. So, there is no sign of overfitting."
   ]
  },
  {
   "cell_type": "markdown",
   "id": "93c5c717-17ba-4744-9ab7-1889f2ac95b3",
   "metadata": {},
   "source": [
    "#### Visualize decision-trees"
   ]
  },
  {
   "cell_type": "code",
   "execution_count": 27,
   "id": "90973d54-98a7-430f-9f96-01ca428543c3",
   "metadata": {},
   "outputs": [
    {
     "data": {
      "text/plain": [
       "[Text(306.90000000000003, 380.52, 'X[7] <= 1.5\\nentropy = 0.993\\nsamples = 7406\\nvalue = [3333, 4073]'),\n",
       " Text(167.4, 271.8, 'X[5] <= 1.5\\nentropy = 0.578\\nsamples = 2420\\nvalue = [2087, 333]'),\n",
       " Text(111.60000000000001, 163.07999999999998, 'X[13] <= 1.5\\nentropy = 0.505\\nsamples = 2349\\nvalue = [2087, 262]'),\n",
       " Text(55.800000000000004, 54.360000000000014, 'entropy = 0.799\\nsamples = 808\\nvalue = [612, 196]'),\n",
       " Text(167.4, 54.360000000000014, 'entropy = 0.255\\nsamples = 1541\\nvalue = [1475, 66]'),\n",
       " Text(223.20000000000002, 163.07999999999998, 'entropy = 0.0\\nsamples = 71\\nvalue = [0, 71]'),\n",
       " Text(446.40000000000003, 271.8, 'X[7] <= 2.5\\nentropy = 0.811\\nsamples = 4986\\nvalue = [1246, 3740]'),\n",
       " Text(334.8, 163.07999999999998, 'X[25] <= 1.5\\nentropy = 0.512\\nsamples = 4201\\nvalue = [479, 3722]'),\n",
       " Text(279.0, 54.360000000000014, 'entropy = 0.942\\nsamples = 774\\nvalue = [278, 496]'),\n",
       " Text(390.6, 54.360000000000014, 'entropy = 0.322\\nsamples = 3427\\nvalue = [201, 3226]'),\n",
       " Text(558.0, 163.07999999999998, 'X[13] <= 1.5\\nentropy = 0.158\\nsamples = 785\\nvalue = [767, 18]'),\n",
       " Text(502.20000000000005, 54.360000000000014, 'entropy = 0.629\\nsamples = 114\\nvalue = [96, 18]'),\n",
       " Text(613.8000000000001, 54.360000000000014, 'entropy = 0.0\\nsamples = 671\\nvalue = [671, 0]')]"
      ]
     },
     "execution_count": 27,
     "metadata": {},
     "output_type": "execute_result"
    },
    {
     "data": {
      "image/png": "[encoded data removed]",
      "text/plain": [
       "<Figure size 864x576 with 1 Axes>"
      ]
     },
     "metadata": {
      "needs_background": "light"
     },
     "output_type": "display_data"
    }
   ],
   "source": [
    "plt.figure(figsize=(12,8))\n",
    "\n",
    "from sklearn import tree\n",
    "\n",
    "tree.plot_tree(clf_en.fit(X_train, y_train)) "
   ]
  },
  {
   "cell_type": "markdown",
   "id": "9e103ff0-fb61-4e34-bda6-c2e7ab4be5d1",
   "metadata": {},
   "source": [
    "#### Visualize decision-trees with graphviz"
   ]
  },
  {
   "cell_type": "code",
   "execution_count": 29,
   "id": "da55802e-5674-40b2-8d8c-3be4b58df8e1",
   "metadata": {},
   "outputs": [
    {
     "data": {
      "image/svg+xml": [
       "<?xml version=\"1.0\" encoding=\"UTF-8\" standalone=\"no\"?>\n",
       "<!DOCTYPE svg PUBLIC \"-//W3C//DTD SVG 1.1//EN\"\n",
       " \"http://www.w3.org/Graphics/SVG/1.1/DTD/svg11.dtd\">\n",
       "<!-- Generated by graphviz version 2.50.0 (20211204.2007)\n",
       " -->\n",
       "<!-- Title: Tree Pages: 1 -->\n",
       "<svg width=\"997pt\" height=\"433pt\"\n",
       " viewBox=\"0.00 0.00 997.00 433.00\" xmlns=\"http://www.w3.org/2000/svg\" xmlns:xlink=\"http://www.w3.org/1999/xlink\">\n",
       "<g id=\"graph0\" class=\"graph\" transform=\"scale(1 1) rotate(0) translate(4 429)\">\n",
       "<title>Tree</title>\n",
       "<polygon fill=\"white\" stroke=\"transparent\" points=\"-4,4 -4,-429 993,-429 993,4 -4,4\"/>\n",
       "<!-- 0 -->\n",
       "<g id=\"node1\" class=\"node\">\n",
       "<title>0</title>\n",
       "<path fill=\"#dbedfa\" stroke=\"black\" d=\"M553,-425C553,-425 431,-425 431,-425 425,-425 419,-419 419,-413 419,-413 419,-354 419,-354 419,-348 425,-342 431,-342 431,-342 553,-342 553,-342 559,-342 565,-348 565,-354 565,-354 565,-413 565,-413 565,-419 559,-425 553,-425\"/>\n",
       "<text text-anchor=\"start\" x=\"427\" y=\"-409.8\" font-family=\"Helvetica,sans-Serif\" font-size=\"14.00\">SSLfinal_State ≤ 1.5</text>\n",
       "<text text-anchor=\"start\" x=\"442\" y=\"-394.8\" font-family=\"Helvetica,sans-Serif\" font-size=\"14.00\">entropy = 0.993</text>\n",
       "<text text-anchor=\"start\" x=\"440.5\" y=\"-379.8\" font-family=\"Helvetica,sans-Serif\" font-size=\"14.00\">samples = 7406</text>\n",
       "<text text-anchor=\"start\" x=\"427\" y=\"-364.8\" font-family=\"Helvetica,sans-Serif\" font-size=\"14.00\">value = [3333, 4073]</text>\n",
       "<text text-anchor=\"start\" x=\"428\" y=\"-349.8\" font-family=\"Helvetica,sans-Serif\" font-size=\"14.00\">class = phishing site</text>\n",
       "</g>\n",
       "<!-- 1 -->\n",
       "<g id=\"node2\" class=\"node\">\n",
       "<title>1</title>\n",
       "<path fill=\"#e99559\" stroke=\"black\" d=\"M473,-306C473,-306 345,-306 345,-306 339,-306 333,-300 333,-294 333,-294 333,-235 333,-235 333,-229 339,-223 345,-223 345,-223 473,-223 473,-223 479,-223 485,-229 485,-235 485,-235 485,-294 485,-294 485,-300 479,-306 473,-306\"/>\n",
       "<text text-anchor=\"start\" x=\"350.5\" y=\"-290.8\" font-family=\"Helvetica,sans-Serif\" font-size=\"14.00\">Prefix_Suffix ≤ 1.5</text>\n",
       "<text text-anchor=\"start\" x=\"359\" y=\"-275.8\" font-family=\"Helvetica,sans-Serif\" font-size=\"14.00\">entropy = 0.578</text>\n",
       "<text text-anchor=\"start\" x=\"357.5\" y=\"-260.8\" font-family=\"Helvetica,sans-Serif\" font-size=\"14.00\">samples = 2420</text>\n",
       "<text text-anchor=\"start\" x=\"348\" y=\"-245.8\" font-family=\"Helvetica,sans-Serif\" font-size=\"14.00\">value = [2087, 333]</text>\n",
       "<text text-anchor=\"start\" x=\"341\" y=\"-230.8\" font-family=\"Helvetica,sans-Serif\" font-size=\"14.00\">class = legitimate site</text>\n",
       "</g>\n",
       "<!-- 0&#45;&gt;1 -->\n",
       "<g id=\"edge1\" class=\"edge\">\n",
       "<title>0&#45;&gt;1</title>\n",
       "<path fill=\"none\" stroke=\"black\" d=\"M463.2,-341.91C456.89,-333.01 450.15,-323.51 443.64,-314.33\"/>\n",
       "<polygon fill=\"black\" stroke=\"black\" points=\"446.39,-312.15 437.75,-306.02 440.68,-316.2 446.39,-312.15\"/>\n",
       "<text text-anchor=\"middle\" x=\"433.56\" y=\"-326.97\" font-family=\"Helvetica,sans-Serif\" font-size=\"14.00\">True</text>\n",
       "</g>\n",
       "<!-- 6 -->\n",
       "<g id=\"node7\" class=\"node\">\n",
       "<title>6</title>\n",
       "<path fill=\"#7bbeee\" stroke=\"black\" d=\"M637,-306C637,-306 515,-306 515,-306 509,-306 503,-300 503,-294 503,-294 503,-235 503,-235 503,-229 509,-223 515,-223 515,-223 637,-223 637,-223 643,-223 649,-229 649,-235 649,-235 649,-294 649,-294 649,-300 643,-306 637,-306\"/>\n",
       "<text text-anchor=\"start\" x=\"511\" y=\"-290.8\" font-family=\"Helvetica,sans-Serif\" font-size=\"14.00\">SSLfinal_State ≤ 2.5</text>\n",
       "<text text-anchor=\"start\" x=\"526\" y=\"-275.8\" font-family=\"Helvetica,sans-Serif\" font-size=\"14.00\">entropy = 0.811</text>\n",
       "<text text-anchor=\"start\" x=\"524.5\" y=\"-260.8\" font-family=\"Helvetica,sans-Serif\" font-size=\"14.00\">samples = 4986</text>\n",
       "<text text-anchor=\"start\" x=\"511\" y=\"-245.8\" font-family=\"Helvetica,sans-Serif\" font-size=\"14.00\">value = [1246, 3740]</text>\n",
       "<text text-anchor=\"start\" x=\"512\" y=\"-230.8\" font-family=\"Helvetica,sans-Serif\" font-size=\"14.00\">class = phishing site</text>\n",
       "</g>\n",
       "<!-- 0&#45;&gt;6 -->\n",
       "<g id=\"edge6\" class=\"edge\">\n",
       "<title>0&#45;&gt;6</title>\n",
       "<path fill=\"none\" stroke=\"black\" d=\"M521.14,-341.91C527.53,-333.01 534.35,-323.51 540.94,-314.33\"/>\n",
       "<polygon fill=\"black\" stroke=\"black\" points=\"543.92,-316.19 546.91,-306.02 538.23,-312.1 543.92,-316.19\"/>\n",
       "<text text-anchor=\"middle\" x=\"550.96\" y=\"-326.99\" font-family=\"Helvetica,sans-Serif\" font-size=\"14.00\">False</text>\n",
       "</g>\n",
       "<!-- 2 -->\n",
       "<g id=\"node3\" class=\"node\">\n",
       "<title>2</title>\n",
       "<path fill=\"#e89152\" stroke=\"black\" d=\"M308.5,-187C308.5,-187 177.5,-187 177.5,-187 171.5,-187 165.5,-181 165.5,-175 165.5,-175 165.5,-116 165.5,-116 165.5,-110 171.5,-104 177.5,-104 177.5,-104 308.5,-104 308.5,-104 314.5,-104 320.5,-110 320.5,-116 320.5,-116 320.5,-175 320.5,-175 320.5,-181 314.5,-187 308.5,-187\"/>\n",
       "<text text-anchor=\"start\" x=\"173.5\" y=\"-171.8\" font-family=\"Helvetica,sans-Serif\" font-size=\"14.00\">URL_of_Anchor ≤ 1.5</text>\n",
       "<text text-anchor=\"start\" x=\"193\" y=\"-156.8\" font-family=\"Helvetica,sans-Serif\" font-size=\"14.00\">entropy = 0.505</text>\n",
       "<text text-anchor=\"start\" x=\"191.5\" y=\"-141.8\" font-family=\"Helvetica,sans-Serif\" font-size=\"14.00\">samples = 2349</text>\n",
       "<text text-anchor=\"start\" x=\"182\" y=\"-126.8\" font-family=\"Helvetica,sans-Serif\" font-size=\"14.00\">value = [2087, 262]</text>\n",
       "<text text-anchor=\"start\" x=\"175\" y=\"-111.8\" font-family=\"Helvetica,sans-Serif\" font-size=\"14.00\">class = legitimate site</text>\n",
       "</g>\n",
       "<!-- 1&#45;&gt;2 -->\n",
       "<g id=\"edge2\" class=\"edge\">\n",
       "<title>1&#45;&gt;2</title>\n",
       "<path fill=\"none\" stroke=\"black\" d=\"M351.41,-222.91C337.63,-213.2 322.82,-202.76 308.71,-192.81\"/>\n",
       "<polygon fill=\"black\" stroke=\"black\" points=\"310.68,-189.92 300.49,-187.02 306.65,-195.64 310.68,-189.92\"/>\n",
       "</g>\n",
       "<!-- 5 -->\n",
       "<g id=\"node6\" class=\"node\">\n",
       "<title>5</title>\n",
       "<path fill=\"#399de5\" stroke=\"black\" d=\"M471,-179.5C471,-179.5 351,-179.5 351,-179.5 345,-179.5 339,-173.5 339,-167.5 339,-167.5 339,-123.5 339,-123.5 339,-117.5 345,-111.5 351,-111.5 351,-111.5 471,-111.5 471,-111.5 477,-111.5 483,-117.5 483,-123.5 483,-123.5 483,-167.5 483,-167.5 483,-173.5 477,-179.5 471,-179.5\"/>\n",
       "<text text-anchor=\"start\" x=\"369\" y=\"-164.3\" font-family=\"Helvetica,sans-Serif\" font-size=\"14.00\">entropy = 0.0</text>\n",
       "<text text-anchor=\"start\" x=\"367.5\" y=\"-149.3\" font-family=\"Helvetica,sans-Serif\" font-size=\"14.00\">samples = 71</text>\n",
       "<text text-anchor=\"start\" x=\"366.5\" y=\"-134.3\" font-family=\"Helvetica,sans-Serif\" font-size=\"14.00\">value = [0, 71]</text>\n",
       "<text text-anchor=\"start\" x=\"347\" y=\"-119.3\" font-family=\"Helvetica,sans-Serif\" font-size=\"14.00\">class = phishing site</text>\n",
       "</g>\n",
       "<!-- 1&#45;&gt;5 -->\n",
       "<g id=\"edge5\" class=\"edge\">\n",
       "<title>1&#45;&gt;5</title>\n",
       "<path fill=\"none\" stroke=\"black\" d=\"M409.69,-222.91C409.88,-212.2 410.07,-200.62 410.26,-189.78\"/>\n",
       "<polygon fill=\"black\" stroke=\"black\" points=\"413.76,-189.73 410.43,-179.67 406.76,-189.61 413.76,-189.73\"/>\n",
       "</g>\n",
       "<!-- 3 -->\n",
       "<g id=\"node4\" class=\"node\">\n",
       "<title>3</title>\n",
       "<path fill=\"#eda978\" stroke=\"black\" d=\"M140,-68C140,-68 12,-68 12,-68 6,-68 0,-62 0,-56 0,-56 0,-12 0,-12 0,-6 6,0 12,0 12,0 140,0 140,0 146,0 152,-6 152,-12 152,-12 152,-56 152,-56 152,-62 146,-68 140,-68\"/>\n",
       "<text text-anchor=\"start\" x=\"26\" y=\"-52.8\" font-family=\"Helvetica,sans-Serif\" font-size=\"14.00\">entropy = 0.799</text>\n",
       "<text text-anchor=\"start\" x=\"28.5\" y=\"-37.8\" font-family=\"Helvetica,sans-Serif\" font-size=\"14.00\">samples = 808</text>\n",
       "<text text-anchor=\"start\" x=\"19\" y=\"-22.8\" font-family=\"Helvetica,sans-Serif\" font-size=\"14.00\">value = [612, 196]</text>\n",
       "<text text-anchor=\"start\" x=\"8\" y=\"-7.8\" font-family=\"Helvetica,sans-Serif\" font-size=\"14.00\">class = legitimate site</text>\n",
       "</g>\n",
       "<!-- 2&#45;&gt;3 -->\n",
       "<g id=\"edge3\" class=\"edge\">\n",
       "<title>2&#45;&gt;3</title>\n",
       "<path fill=\"none\" stroke=\"black\" d=\"M180.82,-103.73C165.85,-93.92 149.91,-83.46 135.1,-73.75\"/>\n",
       "<polygon fill=\"black\" stroke=\"black\" points=\"136.8,-70.68 126.52,-68.13 132.96,-76.54 136.8,-70.68\"/>\n",
       "</g>\n",
       "<!-- 4 -->\n",
       "<g id=\"node5\" class=\"node\">\n",
       "<title>4</title>\n",
       "<path fill=\"#e68742\" stroke=\"black\" d=\"M310,-68C310,-68 182,-68 182,-68 176,-68 170,-62 170,-56 170,-56 170,-12 170,-12 170,-6 176,0 182,0 182,0 310,0 310,0 316,0 322,-6 322,-12 322,-12 322,-56 322,-56 322,-62 316,-68 310,-68\"/>\n",
       "<text text-anchor=\"start\" x=\"196\" y=\"-52.8\" font-family=\"Helvetica,sans-Serif\" font-size=\"14.00\">entropy = 0.255</text>\n",
       "<text text-anchor=\"start\" x=\"194.5\" y=\"-37.8\" font-family=\"Helvetica,sans-Serif\" font-size=\"14.00\">samples = 1541</text>\n",
       "<text text-anchor=\"start\" x=\"189\" y=\"-22.8\" font-family=\"Helvetica,sans-Serif\" font-size=\"14.00\">value = [1475, 66]</text>\n",
       "<text text-anchor=\"start\" x=\"178\" y=\"-7.8\" font-family=\"Helvetica,sans-Serif\" font-size=\"14.00\">class = legitimate site</text>\n",
       "</g>\n",
       "<!-- 2&#45;&gt;4 -->\n",
       "<g id=\"edge4\" class=\"edge\">\n",
       "<title>2&#45;&gt;4</title>\n",
       "<path fill=\"none\" stroke=\"black\" d=\"M244.12,-103.73C244.34,-95.52 244.58,-86.86 244.81,-78.56\"/>\n",
       "<polygon fill=\"black\" stroke=\"black\" points=\"248.31,-78.39 245.09,-68.3 241.32,-78.2 248.31,-78.39\"/>\n",
       "</g>\n",
       "<!-- 7 -->\n",
       "<g id=\"node8\" class=\"node\">\n",
       "<title>7</title>\n",
       "<path fill=\"#52aae8\" stroke=\"black\" d=\"M635,-187C635,-187 515,-187 515,-187 509,-187 503,-181 503,-175 503,-175 503,-116 503,-116 503,-110 509,-104 515,-104 515,-104 635,-104 635,-104 641,-104 647,-110 647,-116 647,-116 647,-175 647,-175 647,-181 641,-187 635,-187\"/>\n",
       "<text text-anchor=\"start\" x=\"522\" y=\"-171.8\" font-family=\"Helvetica,sans-Serif\" font-size=\"14.00\">web_traffic ≤ 1.5</text>\n",
       "<text text-anchor=\"start\" x=\"525\" y=\"-156.8\" font-family=\"Helvetica,sans-Serif\" font-size=\"14.00\">entropy = 0.512</text>\n",
       "<text text-anchor=\"start\" x=\"523.5\" y=\"-141.8\" font-family=\"Helvetica,sans-Serif\" font-size=\"14.00\">samples = 4201</text>\n",
       "<text text-anchor=\"start\" x=\"514\" y=\"-126.8\" font-family=\"Helvetica,sans-Serif\" font-size=\"14.00\">value = [479, 3722]</text>\n",
       "<text text-anchor=\"start\" x=\"511\" y=\"-111.8\" font-family=\"Helvetica,sans-Serif\" font-size=\"14.00\">class = phishing site</text>\n",
       "</g>\n",
       "<!-- 6&#45;&gt;7 -->\n",
       "<g id=\"edge7\" class=\"edge\">\n",
       "<title>6&#45;&gt;7</title>\n",
       "<path fill=\"none\" stroke=\"black\" d=\"M575.65,-222.91C575.58,-214.65 575.51,-205.86 575.43,-197.3\"/>\n",
       "<polygon fill=\"black\" stroke=\"black\" points=\"578.93,-196.99 575.35,-187.02 571.93,-197.05 578.93,-196.99\"/>\n",
       "</g>\n",
       "<!-- 10 -->\n",
       "<g id=\"node11\" class=\"node\">\n",
       "<title>10</title>\n",
       "<path fill=\"#e6843e\" stroke=\"black\" d=\"M808.5,-187C808.5,-187 677.5,-187 677.5,-187 671.5,-187 665.5,-181 665.5,-175 665.5,-175 665.5,-116 665.5,-116 665.5,-110 671.5,-104 677.5,-104 677.5,-104 808.5,-104 808.5,-104 814.5,-104 820.5,-110 820.5,-116 820.5,-116 820.5,-175 820.5,-175 820.5,-181 814.5,-187 808.5,-187\"/>\n",
       "<text text-anchor=\"start\" x=\"673.5\" y=\"-171.8\" font-family=\"Helvetica,sans-Serif\" font-size=\"14.00\">URL_of_Anchor ≤ 1.5</text>\n",
       "<text text-anchor=\"start\" x=\"693\" y=\"-156.8\" font-family=\"Helvetica,sans-Serif\" font-size=\"14.00\">entropy = 0.158</text>\n",
       "<text text-anchor=\"start\" x=\"695.5\" y=\"-141.8\" font-family=\"Helvetica,sans-Serif\" font-size=\"14.00\">samples = 785</text>\n",
       "<text text-anchor=\"start\" x=\"690\" y=\"-126.8\" font-family=\"Helvetica,sans-Serif\" font-size=\"14.00\">value = [767, 18]</text>\n",
       "<text text-anchor=\"start\" x=\"675\" y=\"-111.8\" font-family=\"Helvetica,sans-Serif\" font-size=\"14.00\">class = legitimate site</text>\n",
       "</g>\n",
       "<!-- 6&#45;&gt;10 -->\n",
       "<g id=\"edge10\" class=\"edge\">\n",
       "<title>6&#45;&gt;10</title>\n",
       "<path fill=\"none\" stroke=\"black\" d=\"M633.94,-222.91C647.8,-213.2 662.7,-202.76 676.9,-192.81\"/>\n",
       "<polygon fill=\"black\" stroke=\"black\" points=\"678.98,-195.63 685.16,-187.02 674.96,-189.89 678.98,-195.63\"/>\n",
       "</g>\n",
       "<!-- 8 -->\n",
       "<g id=\"node9\" class=\"node\">\n",
       "<title>8</title>\n",
       "<path fill=\"#a8d4f4\" stroke=\"black\" d=\"M474,-68C474,-68 354,-68 354,-68 348,-68 342,-62 342,-56 342,-56 342,-12 342,-12 342,-6 348,0 354,0 354,0 474,0 474,0 480,0 486,-6 486,-12 486,-12 486,-56 486,-56 486,-62 480,-68 474,-68\"/>\n",
       "<text text-anchor=\"start\" x=\"364\" y=\"-52.8\" font-family=\"Helvetica,sans-Serif\" font-size=\"14.00\">entropy = 0.942</text>\n",
       "<text text-anchor=\"start\" x=\"366.5\" y=\"-37.8\" font-family=\"Helvetica,sans-Serif\" font-size=\"14.00\">samples = 774</text>\n",
       "<text text-anchor=\"start\" x=\"357\" y=\"-22.8\" font-family=\"Helvetica,sans-Serif\" font-size=\"14.00\">value = [278, 496]</text>\n",
       "<text text-anchor=\"start\" x=\"350\" y=\"-7.8\" font-family=\"Helvetica,sans-Serif\" font-size=\"14.00\">class = phishing site</text>\n",
       "</g>\n",
       "<!-- 7&#45;&gt;8 -->\n",
       "<g id=\"edge8\" class=\"edge\">\n",
       "<title>7&#45;&gt;8</title>\n",
       "<path fill=\"none\" stroke=\"black\" d=\"M515.05,-103.73C500.63,-93.92 485.26,-83.46 470.97,-73.75\"/>\n",
       "<polygon fill=\"black\" stroke=\"black\" points=\"472.94,-70.85 462.7,-68.13 469.01,-76.64 472.94,-70.85\"/>\n",
       "</g>\n",
       "<!-- 9 -->\n",
       "<g id=\"node10\" class=\"node\">\n",
       "<title>9</title>\n",
       "<path fill=\"#45a3e7\" stroke=\"black\" d=\"M636,-68C636,-68 516,-68 516,-68 510,-68 504,-62 504,-56 504,-56 504,-12 504,-12 504,-6 510,0 516,0 516,0 636,0 636,0 642,0 648,-6 648,-12 648,-12 648,-56 648,-56 648,-62 642,-68 636,-68\"/>\n",
       "<text text-anchor=\"start\" x=\"526\" y=\"-52.8\" font-family=\"Helvetica,sans-Serif\" font-size=\"14.00\">entropy = 0.322</text>\n",
       "<text text-anchor=\"start\" x=\"524.5\" y=\"-37.8\" font-family=\"Helvetica,sans-Serif\" font-size=\"14.00\">samples = 3427</text>\n",
       "<text text-anchor=\"start\" x=\"515\" y=\"-22.8\" font-family=\"Helvetica,sans-Serif\" font-size=\"14.00\">value = [201, 3226]</text>\n",
       "<text text-anchor=\"start\" x=\"512\" y=\"-7.8\" font-family=\"Helvetica,sans-Serif\" font-size=\"14.00\">class = phishing site</text>\n",
       "</g>\n",
       "<!-- 7&#45;&gt;9 -->\n",
       "<g id=\"edge9\" class=\"edge\">\n",
       "<title>7&#45;&gt;9</title>\n",
       "<path fill=\"none\" stroke=\"black\" d=\"M575.37,-103.73C575.45,-95.52 575.53,-86.86 575.6,-78.56\"/>\n",
       "<polygon fill=\"black\" stroke=\"black\" points=\"579.1,-78.33 575.7,-68.3 572.1,-78.27 579.1,-78.33\"/>\n",
       "</g>\n",
       "<!-- 11 -->\n",
       "<g id=\"node12\" class=\"node\">\n",
       "<title>11</title>\n",
       "<path fill=\"#ea995e\" stroke=\"black\" d=\"M807,-68C807,-68 679,-68 679,-68 673,-68 667,-62 667,-56 667,-56 667,-12 667,-12 667,-6 673,0 679,0 679,0 807,0 807,0 813,0 819,-6 819,-12 819,-12 819,-56 819,-56 819,-62 813,-68 807,-68\"/>\n",
       "<text text-anchor=\"start\" x=\"693\" y=\"-52.8\" font-family=\"Helvetica,sans-Serif\" font-size=\"14.00\">entropy = 0.629</text>\n",
       "<text text-anchor=\"start\" x=\"695.5\" y=\"-37.8\" font-family=\"Helvetica,sans-Serif\" font-size=\"14.00\">samples = 114</text>\n",
       "<text text-anchor=\"start\" x=\"694.5\" y=\"-22.8\" font-family=\"Helvetica,sans-Serif\" font-size=\"14.00\">value = [96, 18]</text>\n",
       "<text text-anchor=\"start\" x=\"675\" y=\"-7.8\" font-family=\"Helvetica,sans-Serif\" font-size=\"14.00\">class = legitimate site</text>\n",
       "</g>\n",
       "<!-- 10&#45;&gt;11 -->\n",
       "<g id=\"edge11\" class=\"edge\">\n",
       "<title>10&#45;&gt;11</title>\n",
       "<path fill=\"none\" stroke=\"black\" d=\"M743,-103.73C743,-95.52 743,-86.86 743,-78.56\"/>\n",
       "<polygon fill=\"black\" stroke=\"black\" points=\"746.5,-78.3 743,-68.3 739.5,-78.3 746.5,-78.3\"/>\n",
       "</g>\n",
       "<!-- 12 -->\n",
       "<g id=\"node13\" class=\"node\">\n",
       "<title>12</title>\n",
       "<path fill=\"#e58139\" stroke=\"black\" d=\"M977,-68C977,-68 849,-68 849,-68 843,-68 837,-62 837,-56 837,-56 837,-12 837,-12 837,-6 843,0 849,0 849,0 977,0 977,0 983,0 989,-6 989,-12 989,-12 989,-56 989,-56 989,-62 983,-68 977,-68\"/>\n",
       "<text text-anchor=\"start\" x=\"871\" y=\"-52.8\" font-family=\"Helvetica,sans-Serif\" font-size=\"14.00\">entropy = 0.0</text>\n",
       "<text text-anchor=\"start\" x=\"865.5\" y=\"-37.8\" font-family=\"Helvetica,sans-Serif\" font-size=\"14.00\">samples = 671</text>\n",
       "<text text-anchor=\"start\" x=\"864.5\" y=\"-22.8\" font-family=\"Helvetica,sans-Serif\" font-size=\"14.00\">value = [671, 0]</text>\n",
       "<text text-anchor=\"start\" x=\"845\" y=\"-7.8\" font-family=\"Helvetica,sans-Serif\" font-size=\"14.00\">class = legitimate site</text>\n",
       "</g>\n",
       "<!-- 10&#45;&gt;12 -->\n",
       "<g id=\"edge12\" class=\"edge\">\n",
       "<title>10&#45;&gt;12</title>\n",
       "<path fill=\"none\" stroke=\"black\" d=\"M806.3,-103.73C821.53,-93.92 837.76,-83.46 852.84,-73.75\"/>\n",
       "<polygon fill=\"black\" stroke=\"black\" points=\"855.06,-76.48 861.57,-68.13 851.27,-70.6 855.06,-76.48\"/>\n",
       "</g>\n",
       "</g>\n",
       "</svg>\n"
      ],
      "text/plain": [
       "<graphviz.sources.Source at 0x250836a5040>"
      ]
     },
     "execution_count": 29,
     "metadata": {},
     "output_type": "execute_result"
    }
   ],
   "source": [
    "import graphviz \n",
    "dot_data = tree.export_graphviz(clf_en, out_file=None, \n",
    "                              feature_names=feature_names,  \n",
    "                              class_names=target,  \n",
    "                              filled=True, rounded=True,  \n",
    "                              special_characters=True)\n",
    "\n",
    "graph = graphviz.Source(dot_data) \n",
    "\n",
    "graph "
   ]
  },
  {
   "cell_type": "markdown",
   "id": "d1076eef-e81f-4cd2-8644-4ff0f67c53b3",
   "metadata": {},
   "source": [
    "#### Now, based on the above analysis we can conclude that our classification model accuracy is very good. Our model is doing a very good job in terms of predicting the class labels. But, it does not give the underlying distribution of values. Also, it does not tell anything about the type of errors our classifer is making. We have another tool called Confusion matrix that comes to our rescue."
   ]
  },
  {
   "cell_type": "markdown",
   "id": "6c87b9ff-a4bd-4105-b7a4-5e5d4d8e51f4",
   "metadata": {},
   "source": [
    "#### By using 2 algrorithm methods to analysis, we can conclude that our classification model accuracy is very good. The result is given the same prediction."
   ]
  },
  {
   "cell_type": "markdown",
   "id": "78d09b6b-8a75-45f4-a128-538b05bc6f3a",
   "metadata": {},
   "source": [
    "#### Confusion matrix"
   ]
  },
  {
   "cell_type": "code",
   "execution_count": 32,
   "id": "e4800ece-43b4-455f-80ec-63dc32a7348f",
   "metadata": {},
   "outputs": [
    {
     "data": {
      "image/png": "[encoded data removed]",
      "text/plain": [
       "<Figure size 432x288 with 2 Axes>"
      ]
     },
     "metadata": {
      "needs_background": "light"
     },
     "output_type": "display_data"
    }
   ],
   "source": [
    "# draw a confusion matrix for the tree with criterion gini index\n",
    "import warnings\n",
    "warnings.filterwarnings('ignore')\n",
    "\n",
    "plot_confusion_matrix(clf_gini,X_test,y_test,display_labels=target)\n",
    "plt.title('Confusion matrix of the classifier')\n",
    "plt.show()"
   ]
  },
  {
   "cell_type": "code",
   "execution_count": 34,
   "id": "0c4f769e-624c-464c-bc2e-f3ced020d7be",
   "metadata": {},
   "outputs": [
    {
     "data": {
      "image/png": "[encoded data removed]",
      "text/plain": [
       "<Figure size 432x288 with 2 Axes>"
      ]
     },
     "metadata": {
      "needs_background": "light"
     },
     "output_type": "display_data"
    }
   ],
   "source": [
    "# draw a confusion matrix for the tree with criterion entropy\n",
    "import warnings\n",
    "warnings.filterwarnings('ignore')\n",
    "\n",
    "plot_confusion_matrix(clf_en,X_test,y_test,display_labels=target)\n",
    "plt.title('Confusion matrix of the classifier')\n",
    "plt.show()"
   ]
  },
  {
   "cell_type": "code",
   "execution_count": 30,
   "id": "16b1f516-7558-43ab-ae33-01db30d11e7f",
   "metadata": {},
   "outputs": [
    {
     "name": "stdout",
     "output_type": "stream",
     "text": [
      "Confusion matrix\n",
      "\n",
      " [[1343  222]\n",
      " [ 145 1939]]\n"
     ]
    }
   ],
   "source": [
    "# Print the Confusion Matrix and slice it into four pieces\n",
    "\n",
    "from sklearn.metrics import confusion_matrix\n",
    "\n",
    "cm = confusion_matrix(y_test, y_pred_en)\n",
    "\n",
    "print('Confusion matrix\\n\\n', cm)"
   ]
  },
  {
   "cell_type": "markdown",
   "id": "2cf9e0b4-bb46-4a8f-8627-5f7c0c9b620d",
   "metadata": {},
   "source": [
    "#### Classification Report"
   ]
  },
  {
   "cell_type": "code",
   "execution_count": 31,
   "id": "9172f0ba-d15a-453d-9cb0-149d0f18eed4",
   "metadata": {},
   "outputs": [
    {
     "name": "stdout",
     "output_type": "stream",
     "text": [
      "                 precision    recall  f1-score   support\n",
      "\n",
      "legitimate site       0.90      0.86      0.88      1565\n",
      "  phishing site       0.90      0.93      0.91      2084\n",
      "\n",
      "       accuracy                           0.90      3649\n",
      "      macro avg       0.90      0.89      0.90      3649\n",
      "   weighted avg       0.90      0.90      0.90      3649\n",
      "\n"
     ]
    }
   ],
   "source": [
    "from sklearn.metrics import classification_report\n",
    "\n",
    "print(classification_report(y_test, y_pred_en))"
   ]
  },
  {
   "cell_type": "markdown",
   "id": "98d13146-7b4d-41c5-8f40-cbd7ad546e7b",
   "metadata": {},
   "source": [
    "#### Results and conclusion"
   ]
  },
  {
   "cell_type": "markdown",
   "id": "ac1f0f04-5d0d-47c9-8f72-5b8758842165",
   "metadata": {},
   "source": [
    "##### In this assignment, I build a Decision-Tree Classifier model to predict a family of online frauds. I used two models are criterion gini index and another one with criterion entropy. According to my evaluation, the model presents very good indication by a high accuracy which was found to be 0.8994.\n",
    "\n",
    "##### In the model criterion gini index, the training-set accuracy score is 0.8975 while the test-set accuracy to be 0.8994 and these two values are quiet comparable, so there is no sign of overfitting. Besides, model with criterion entropy is the same result with the model criterion gini index"
   ]
  },
  {
   "cell_type": "markdown",
   "id": "daf754af-0c52-4dd7-a225-a339d3b7aa99",
   "metadata": {},
   "source": [
    "#### References codes\n",
    "###### Decision-Tree Classifier Tutorial by PRASHANT BANERJEE\n",
    "https://www.kaggle.com/prashant111/decision-tree-classifier-tutorial"
   ]
  }
 ],
 "metadata": {
  "kernelspec": {
   "display_name": "Python 3 (ipykernel)",
   "language": "python",
   "name": "python3"
  },
  "language_info": {
   "codemirror_mode": {
    "name": "ipython",
    "version": 3
   },
   "file_extension": ".py",
   "mimetype": "text/x-python",
   "name": "python",
   "nbconvert_exporter": "python",
   "pygments_lexer": "ipython3",
   "version": "3.9.7"
  }
 },
 "nbformat": 4,
 "nbformat_minor": 5
}
