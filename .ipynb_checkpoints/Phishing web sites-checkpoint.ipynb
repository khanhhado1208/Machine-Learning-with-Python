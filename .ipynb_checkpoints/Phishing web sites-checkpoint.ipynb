{
 "cells": [
  {
   "cell_type": "code",
   "execution_count": 9,
   "id": "a339020d-e2e7-4dd0-8716-ef3525a4005a",
   "metadata": {},
   "outputs": [],
   "source": [
    "# Importing Packages \n",
    "\n",
    "import pandas as pd\n",
    "from sklearn.tree import DecisionTreeClassifier # Import Decision Tree Classifier\n",
    "from sklearn.model_selection import train_test_split # Import train_test_split function\n",
    "from sklearn import metrics #Import scikit-learn metrics module for accuracy calculation\n",
    "import warnings\n",
    "warnings.filterwarnings('ignore')\n",
    "warnings.simplefilter('ignore')"
   ]
  },
  {
   "cell_type": "raw",
   "id": "bf0ad156-894c-4361-a614-079317cd44c9",
   "metadata": {},
   "source": [
    "col_names = ['having_IP_Address', 'Shortining_Service', \n",
    "             'having_At_Symbol', 'double_slash_redirecting', 'Prefix_Suffix', 'having_Sub_Domain', \n",
    "             'SSLfinal_State', 'Domain_registeration_length', 'Favicon',\n",
    "             'port', 'HTTPS_token', 'Request_URL', 'URL_of_Anchor', 'Links_in_tags',\n",
    "             'SFH', 'Submitting_to_email', 'Abnormal_URL','Redirect', 'on_mouseover',\n",
    "             'RightClick', 'popUpWindow', 'Iframe', 'age_of_domain', 'DNSRecord', 'web_traffic',\n",
    "             'Page_Rank', 'Google_Index', 'Links_pointing_to_page', 'Statistical_report', 'Result']\n",
    "# load dataset\n",
    "data = pd.read_csv(\"phishing.csv\", header=None, names=col_names)"
   ]
  },
  {
   "cell_type": "raw",
   "id": "c8851ef3-c667-4714-8e9f-53ffad81955b",
   "metadata": {},
   "source": [
    "data.head()"
   ]
  },
  {
   "cell_type": "code",
   "execution_count": 11,
   "id": "79e3126c-d39f-431c-a3d5-ae8e83c145d0",
   "metadata": {},
   "outputs": [
    {
     "ename": "SyntaxError",
     "evalue": "EOL while scanning string literal (Temp/ipykernel_17044/2147140802.py, line 1)",
     "output_type": "error",
     "traceback": [
      "\u001b[1;36m  File \u001b[1;32m\"C:\\Users\\daint\\AppData\\Local\\Temp/ipykernel_17044/2147140802.py\"\u001b[1;36m, line \u001b[1;32m1\u001b[0m\n\u001b[1;33m    df = pd.read_csv(\"phishing.csv\", skiprows=1, header=None,\")\u001b[0m\n\u001b[1;37m                                                               ^\u001b[0m\n\u001b[1;31mSyntaxError\u001b[0m\u001b[1;31m:\u001b[0m EOL while scanning string literal\n"
     ]
    }
   ],
   "source": [
    "df = pd.read_csv(\"phishing.csv\", sep=\"\\s*;\\s*\", engine=\"python\")\n",
    "df.head()"
   ]
  },
  {
   "cell_type": "markdown",
   "id": "bc40ad3e-e6df-48c9-96c2-583f15eb764d",
   "metadata": {},
   "source": [
    "###### Here, you need to divide given columns into two types of variables dependent(or target variable) and independent variable(or feature variables)."
   ]
  },
  {
   "cell_type": "raw",
   "id": "99851656-d665-48ea-b500-4758f26e05a9",
   "metadata": {},
   "source": [
    "#split dataset in features and target variable\n",
    "feature_cols = ['having_IP_Address',  \n",
    "              'double_slash_redirecting', 'Prefix_Suffix', 'having_Sub_Domain', \n",
    "             'SSLfinal_State', 'Domain_registeration_length', \n",
    "             'port', 'HTTPS_token', 'Request_URL', 'URL_of_Anchor', 'Links_in_tags',\n",
    "             'SFH', 'Submitting_to_email', 'Abnormal_URL','Redirect', 'on_mouseover',\n",
    "             'RightClick', 'popUpWindow', 'Iframe', 'age_of_domain', 'DNSRecord', 'web_traffic',\n",
    "              'Google_Index', 'Links_pointing_to_page', 'Statistical_report', 'Result']\n",
    "X = df[feature_cols] # Features\n",
    "y = df.Result # Target variable"
   ]
  },
  {
   "cell_type": "code",
   "execution_count": 25,
   "id": "e16ec5bb-65a3-4652-923a-14aa17c7f55f",
   "metadata": {},
   "outputs": [],
   "source": [
    "class Node():\n",
    "    def __init__(self, feature_index=None, threshold=None, left=None, right=None, info_gain=None, value=None):\n",
    "        ''' constructor ''' \n",
    "        \n",
    "        # for decision node\n",
    "        self.feature_index = feature_index\n",
    "        self.threshold = threshold\n",
    "        self.left = left\n",
    "        self.right = right\n",
    "        self.info_gain = info_gain\n",
    "        \n",
    "        # for leaf node\n",
    "        self.value = value"
   ]
  },
  {
   "cell_type": "markdown",
   "id": "b824967b-6ea9-4f70-b945-7eccf2a41973",
   "metadata": {},
   "source": [
    "###### Let's split the dataset by using function train_test_split(). You need to pass 3 parameters features, target, and test_set size."
   ]
  },
  {
   "cell_type": "code",
   "execution_count": null,
   "id": "47e4e716-b9da-49cb-8a74-7c50e1138bb4",
   "metadata": {},
   "outputs": [],
   "source": [
    "# Split dataset into training set and test set\n",
    "X_train, X_test, y_train, y_test = train_test_split(X, y, test_size=0.3, random_state=1) # 70% training and 30% test"
   ]
  },
  {
   "cell_type": "raw",
   "id": "c0036a97-6692-4199-a7e7-15b45a97e58f",
   "metadata": {},
   "source": [
    "#### Building Decision Tree Model"
   ]
  },
  {
   "cell_type": "code",
   "execution_count": 18,
   "id": "267ae129-a540-4008-90af-173b232f6e28",
   "metadata": {},
   "outputs": [],
   "source": [
    "# Create Decision Tree classifer object\n",
    "clf = DecisionTreeClassifier()\n",
    "\n",
    "# Train Decision Tree Classifer\n",
    "clf = clf.fit(X_train,y_train)\n",
    "\n",
    "#Predict the response for test dataset\n",
    "y_pred = clf.predict(X_test)"
   ]
  },
  {
   "cell_type": "markdown",
   "id": "e8a7b33d-5992-4045-8ed0-8511bae77490",
   "metadata": {},
   "source": [
    "#### Evaluating Model"
   ]
  },
  {
   "cell_type": "code",
   "execution_count": 19,
   "id": "6b5faa40-ea96-4eb0-b78d-c02781576874",
   "metadata": {},
   "outputs": [
    {
     "name": "stdout",
     "output_type": "stream",
     "text": [
      "Accuracy: 1.0\n"
     ]
    }
   ],
   "source": [
    "# Model Accuracy, how often is the classifier correct?\n",
    "print(\"Accuracy:\",metrics.accuracy_score(y_test, y_pred))"
   ]
  },
  {
   "cell_type": "code",
   "execution_count": null,
   "id": "5ad1c62f-2800-4e54-ab8b-0b6a09611e8a",
   "metadata": {},
   "outputs": [],
   "source": []
  }
 ],
 "metadata": {
  "kernelspec": {
   "display_name": "Python 3 (ipykernel)",
   "language": "python",
   "name": "python3"
  },
  "language_info": {
   "codemirror_mode": {
    "name": "ipython",
    "version": 3
   },
   "file_extension": ".py",
   "mimetype": "text/x-python",
   "name": "python",
   "nbconvert_exporter": "python",
   "pygments_lexer": "ipython3",
   "version": "3.9.7"
  }
 },
 "nbformat": 4,
 "nbformat_minor": 5
}
