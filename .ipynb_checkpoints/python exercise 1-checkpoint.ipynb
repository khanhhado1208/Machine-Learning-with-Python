{
 "cells": [
  {
   "cell_type": "markdown",
   "id": "e3ff1800-b71b-496b-b552-1dc604f04f17",
   "metadata": {},
   "source": [
    "# Metropolia Ammattikorkeakoulu\n",
    "# Mathematics and Methods in Machine Learning and Neural Networks\n",
    "\n",
    "HA DO - Mathematics / Python Exercises 1 "
   ]
  },
  {
   "cell_type": "code",
   "execution_count": 3,
   "id": "372e61eb-f08d-46ae-bc1c-960bd4dd7593",
   "metadata": {
    "tags": []
   },
   "outputs": [],
   "source": [
    "#library for calculation\n",
    "import numpy as np\n",
    "import matplotlib.pyplot as plt\n",
    "import numpy.linalg as la\n",
    "import numpy"
   ]
  },
  {
   "cell_type": "markdown",
   "id": "fa1ce398-6ed2-4384-b2ed-3ee8204cc9eb",
   "metadata": {},
   "source": [
    "# PART 1"
   ]
  },
  {
   "cell_type": "code",
   "execution_count": 9,
   "id": "78229c55-464c-4eef-b6d6-bb4493faebea",
   "metadata": {
    "tags": []
   },
   "outputs": [
    {
     "name": "stdout",
     "output_type": "stream",
     "text": [
      "[[27]]\n"
     ]
    }
   ],
   "source": [
    "# Question 1a\n",
    "A = np.array([[3, 6]])\n",
    "B = np.array([[5], \n",
    "              [2]])\n",
    "print(A.dot(B))"
   ]
  },
  {
   "cell_type": "code",
   "execution_count": 10,
   "id": "99f0a439-53c0-43ef-a16b-a35ed9175a78",
   "metadata": {},
   "outputs": [
    {
     "name": "stdout",
     "output_type": "stream",
     "text": [
      "[[15 30]\n",
      " [ 6 12]]\n"
     ]
    }
   ],
   "source": [
    "# Question 1b \n",
    "print(B.dot(A))"
   ]
  },
  {
   "cell_type": "code",
   "execution_count": 11,
   "id": "d55e3c3f-7505-4b2e-8995-ed9e30e5afb3",
   "metadata": {},
   "outputs": [],
   "source": [
    "# Question 1c\n",
    "A = np.array([[3, 6]])\n",
    "B = np.array([[5], \n",
    "              [2]])\n",
    "# Matrix A column and B row amount need to be the same so it is not defined "
   ]
  },
  {
   "cell_type": "code",
   "execution_count": 25,
   "id": "179984dd-bbf8-44bf-a6b4-991701d58d9d",
   "metadata": {},
   "outputs": [
    {
     "name": "stdout",
     "output_type": "stream",
     "text": [
      "[[16]\n",
      " [42]]\n"
     ]
    }
   ],
   "source": [
    "# Question 1d\n",
    "A = np.array([[1, 2], \n",
    "              [3, 5]])\n",
    "B = np.array([[4], \n",
    "              [6]])\n",
    "print(A.dot(B))"
   ]
  },
  {
   "cell_type": "code",
   "execution_count": 26,
   "id": "ce9e3020-bd47-46c8-8c3e-b2298f6c7502",
   "metadata": {},
   "outputs": [
    {
     "name": "stdout",
     "output_type": "stream",
     "text": [
      "[[22 38]]\n"
     ]
    }
   ],
   "source": [
    "# Question 1e\n",
    "C = B.transpose()\n",
    "print(C.dot(A))"
   ]
  },
  {
   "cell_type": "code",
   "execution_count": 28,
   "id": "aac81c38-f314-4b42-be38-ffc2c20863f2",
   "metadata": {},
   "outputs": [
    {
     "name": "stdout",
     "output_type": "stream",
     "text": [
      "[[316]]\n"
     ]
    }
   ],
   "source": [
    "# Question 1f\n",
    "print(B.transpose().dot(A).dot(B))"
   ]
  },
  {
   "cell_type": "markdown",
   "id": "9d98d6d7-d8d2-4871-b938-4e4c3503c142",
   "metadata": {},
   "source": [
    "# PART 2"
   ]
  },
  {
   "cell_type": "code",
   "execution_count": 8,
   "id": "1a529c72-de5f-48ea-a001-ef87b7d2a7be",
   "metadata": {},
   "outputs": [],
   "source": [
    "A = np.array([[1, 0],\n",
    "             [0, 2],\n",
    "             [3, 0]])\n",
    "\n",
    "B = np.array([[0, 4],\n",
    "             [0, 5],\n",
    "             [6, 0]])"
   ]
  },
  {
   "cell_type": "code",
   "execution_count": 9,
   "id": "fc7accd7-32bb-424b-81d5-9a11ff8ffa85",
   "metadata": {},
   "outputs": [],
   "source": [
    "#AB\n",
    "#Matrix A column and B row amount need to be the same so it is not defined "
   ]
  },
  {
   "cell_type": "code",
   "execution_count": 10,
   "id": "a1dd9eac-faf4-4c31-b279-87773dc2ec4e",
   "metadata": {},
   "outputs": [
    {
     "name": "stdout",
     "output_type": "stream",
     "text": [
      "[[ 0  0]\n",
      " [ 0 10]\n",
      " [18  0]]\n"
     ]
    }
   ],
   "source": [
    "# A * B\n",
    "print(A*B)"
   ]
  },
  {
   "cell_type": "code",
   "execution_count": 11,
   "id": "f96c4bb8-6437-4026-a920-0e7a714aa3b0",
   "metadata": {},
   "outputs": [
    {
     "name": "stdout",
     "output_type": "stream",
     "text": [
      "[[18  4]\n",
      " [ 0 10]]\n"
     ]
    }
   ],
   "source": [
    "# A transpose B\n",
    "A_transpose = A.T\n",
    "print(A_transpose.dot(B))"
   ]
  },
  {
   "cell_type": "code",
   "execution_count": 12,
   "id": "aa14b22d-457d-4796-be9c-2d7e64c2b83a",
   "metadata": {},
   "outputs": [
    {
     "name": "stdout",
     "output_type": "stream",
     "text": [
      "[[ 0  0  6]\n",
      " [ 8 10  0]\n",
      " [ 0  0 18]]\n"
     ]
    }
   ],
   "source": [
    "# A B transpose\n",
    "B_transpose = B.T\n",
    "print(A.dot(B_transpose))"
   ]
  },
  {
   "cell_type": "code",
   "execution_count": 13,
   "id": "12f3de10-c77e-4244-a1f5-ae26d3ad0398",
   "metadata": {},
   "outputs": [
    {
     "name": "stdout",
     "output_type": "stream",
     "text": [
      "[[10  0]\n",
      " [ 0 20]\n",
      " [30  0]]\n"
     ]
    }
   ],
   "source": [
    "# 10A\n",
    "print(10*A)"
   ]
  },
  {
   "cell_type": "code",
   "execution_count": 14,
   "id": "1c897645-6e86-4253-b238-e143d12775e3",
   "metadata": {},
   "outputs": [
    {
     "name": "stdout",
     "output_type": "stream",
     "text": [
      "[[11 10]\n",
      " [10 12]\n",
      " [13 10]]\n"
     ]
    }
   ],
   "source": [
    "# 10 + A\n",
    "print(10+A)"
   ]
  },
  {
   "cell_type": "markdown",
   "id": "b9b03a3a-085b-47e3-afb2-e479f6f9dd06",
   "metadata": {},
   "source": [
    "# PART 3"
   ]
  },
  {
   "cell_type": "code",
   "execution_count": 15,
   "id": "b3ef7f1a-494b-4c49-93bf-87206862c7f8",
   "metadata": {},
   "outputs": [
    {
     "data": {
      "image/png": "[encoded data removed]",
      "text/plain": [
       "<Figure size 432x288 with 1 Axes>"
      ]
     },
     "metadata": {
      "needs_background": "light"
     },
     "output_type": "display_data"
    }
   ],
   "source": [
    "e = 2.71828\n",
    "x = np.linspace(-2,2,100)\n",
    "g = 1/(1+e**x)\n",
    "fig = plt.figure()\n",
    "ax = fig.add_subplot(1, 1, 1)\n",
    "ax.spines['left'].set_position('center')\n",
    "ax.spines['bottom'].set_position('zero')\n",
    "ax.spines['right'].set_color('none')\n",
    "ax.spines['top'].set_color('none')\n",
    "ax.xaxis.set_ticks_position('bottom')\n",
    "ax.yaxis.set_ticks_position('left')\n",
    "# plot the function\n",
    "plt.plot(x,g, 'b')\n",
    "plt.grid()\n",
    "# show the plot\n",
    "plt.show()"
   ]
  },
  {
   "cell_type": "markdown",
   "id": "6585d2ac-97ac-4b74-b92d-5432695438a4",
   "metadata": {},
   "source": [
    "# PART 4"
   ]
  },
  {
   "cell_type": "code",
   "execution_count": 16,
   "id": "4afeb6cf-0143-4d18-b181-21baa916cef9",
   "metadata": {},
   "outputs": [
    {
     "data": {
      "image/png": "[encoded data removed]",
      "text/plain": [
       "<Figure size 432x288 with 1 Axes>"
      ]
     },
     "metadata": {
      "needs_background": "light"
     },
     "output_type": "display_data"
    }
   ],
   "source": [
    "x = np.linspace(0,5,100)\n",
    "f = (x**3 + abs(x) + np.log(x+10**-8))/(numpy.sqrt(100+x) + 0.01*x*e**x)\n",
    "fig = plt.figure()\n",
    "ax = fig.add_subplot(1, 1, 1)\n",
    "ax.spines['left'].set_position('center')\n",
    "ax.spines['bottom'].set_position('zero')\n",
    "ax.spines['right'].set_color('none')\n",
    "ax.spines['top'].set_color('none')\n",
    "ax.xaxis.set_ticks_position('bottom')\n",
    "ax.yaxis.set_ticks_position('left')\n",
    "# plot the function\n",
    "plt.plot(x,f, 'b')\n",
    "plt.grid()\n",
    "# show the plot\n",
    "plt.show()"
   ]
  },
  {
   "cell_type": "markdown",
   "id": "10173b3b-582b-4271-b668-a3b57c019bda",
   "metadata": {},
   "source": [
    "# PART 5"
   ]
  },
  {
   "cell_type": "code",
   "execution_count": 30,
   "id": "8081d922-63e4-4884-8eb2-025206529dd7",
   "metadata": {},
   "outputs": [
    {
     "name": "stdout",
     "output_type": "stream",
     "text": [
      "[[2.]\n",
      " [3.]\n",
      " [1.]]\n"
     ]
    }
   ],
   "source": [
    "# AX = B\n",
    "A = np.array([[1, 2, 4],\n",
    "            [-3, 1, 5],\n",
    "            [2, -4, 1]])\n",
    "\n",
    "B = np.array([[12],\n",
    "            [2],\n",
    "            [-7]])\n",
    "X = la.inv(A).dot(B)\n",
    "print(X)"
   ]
  },
  {
   "cell_type": "code",
   "execution_count": 33,
   "id": "45654c85-ce30-4655-8710-6e057c5996e5",
   "metadata": {},
   "outputs": [
    {
     "name": "stdout",
     "output_type": "stream",
     "text": [
      "AX\n",
      "[[12.]\n",
      " [ 2.]\n",
      " [-7.]]\n",
      "\n"
     ]
    }
   ],
   "source": [
    "# Check if AX = B\n",
    "_B = A.dot(X)\n",
    "print(f\"AX\\n{_B}\\n\")"
   ]
  },
  {
   "cell_type": "markdown",
   "id": "9d664c9f-c8ca-42d0-843c-ecbe37bc9e9a",
   "metadata": {},
   "source": [
    "# PART 6"
   ]
  },
  {
   "cell_type": "code",
   "execution_count": 35,
   "id": "0b7fccc1-c95b-4dd2-b182-363ef8b14be2",
   "metadata": {},
   "outputs": [],
   "source": [
    "A = np.array([[2, 5, -1, 3, 6],\n",
    "             [1, 0, 0, -2, 0],\n",
    "             [4, 1, -2, 0, 7],\n",
    "             [0, 3, 5, 1, -1]])"
   ]
  },
  {
   "cell_type": "code",
   "execution_count": 36,
   "id": "3103284a-d38d-411b-a788-03acd2872579",
   "metadata": {},
   "outputs": [
    {
     "name": "stdout",
     "output_type": "stream",
     "text": [
      "element at row 1 & column 1 is :  2\n",
      "element at row 2 & column 4 is :  -2\n",
      "element at row 4 & column 4 is :  1\n"
     ]
    }
   ],
   "source": [
    "# a) the elements A(1, 1), A(2, 4) and A(4, 4)\n",
    "print('element at row 1 & column 1 is : ' , A[0,0])\n",
    "print('element at row 2 & column 4 is : ' , A[1,3])\n",
    "print('element at row 4 & column 4 is : ' , A[3][3])"
   ]
  },
  {
   "cell_type": "code",
   "execution_count": 37,
   "id": "bbc9fa7e-64d3-4f99-8845-21cc8771a03b",
   "metadata": {},
   "outputs": [
    {
     "name": "stdout",
     "output_type": "stream",
     "text": [
      "the third row is :  [ 4  1 -2  0  7]\n"
     ]
    }
   ],
   "source": [
    "# b) the third row,\n",
    "print('the third row is : ', A[2])"
   ]
  },
  {
   "cell_type": "code",
   "execution_count": 38,
   "id": "a1532424-4933-4745-b249-b313a415f0e1",
   "metadata": {},
   "outputs": [
    {
     "name": "stdout",
     "output_type": "stream",
     "text": [
      "the first three columns : \n",
      " [[ 2  5 -1]\n",
      " [ 1  0  0]\n",
      " [ 4  1 -2]\n",
      " [ 0  3  5]]\n"
     ]
    }
   ],
   "source": [
    "# c) the first three columns.\n",
    "print('the first three columns : \\n', A[:,:3])"
   ]
  },
  {
   "cell_type": "markdown",
   "id": "d742ccf5-be20-4649-8ff9-e4e20ae5e12f",
   "metadata": {},
   "source": [
    "# PART 7"
   ]
  },
  {
   "cell_type": "code",
   "execution_count": 39,
   "id": "7c52c508-1ea1-4a4d-979c-981dd914d7a4",
   "metadata": {},
   "outputs": [
    {
     "name": "stdout",
     "output_type": "stream",
     "text": [
      "matrix A concatenate B is : \n",
      " [[1 0]\n",
      " [0 2]\n",
      " [3 0]\n",
      " [0 4]\n",
      " [0 5]\n",
      " [6 0]]\n"
     ]
    }
   ],
   "source": [
    "# Concatenate matrices A and B\n",
    "A = np.array([[1, 0],\n",
    "             [0, 2],\n",
    "             [3, 0]])\n",
    "\n",
    "B = np.array([[0, 4],\n",
    "             [0, 5],\n",
    "             [6, 0]])\n",
    "print('matrix A concatenate B is : \\n', np.concatenate((A, B), axis=0))"
   ]
  },
  {
   "cell_type": "code",
   "execution_count": 41,
   "id": "a3dc41ed-49ff-4309-ad8b-322aa8f5a6fe",
   "metadata": {},
   "outputs": [
    {
     "name": "stdout",
     "output_type": "stream",
     "text": [
      "reshape C as a column vector:  [[1]\n",
      " [0]\n",
      " [0]\n",
      " [2]\n",
      " [3]\n",
      " [0]\n",
      " [0]\n",
      " [4]\n",
      " [0]\n",
      " [5]\n",
      " [6]\n",
      " [0]]\n"
     ]
    }
   ],
   "source": [
    "C = np.array([A, B])\n",
    "D = np.array([[A],\n",
    "             [B]])\n",
    "print('reshape C as a column vector: \\n', C.reshape((12, 1)))"
   ]
  },
  {
   "cell_type": "code",
   "execution_count": null,
   "id": "7d759c06-0fe2-481e-a40f-66109cf07582",
   "metadata": {},
   "outputs": [],
   "source": []
  }
 ],
 "metadata": {
  "kernelspec": {
   "display_name": "Python 3 (ipykernel)",
   "language": "python",
   "name": "python3"
  },
  "language_info": {
   "codemirror_mode": {
    "name": "ipython",
    "version": 3
   },
   "file_extension": ".py",
   "mimetype": "text/x-python",
   "name": "python",
   "nbconvert_exporter": "python",
   "pygments_lexer": "ipython3",
   "version": "3.9.7"
  }
 },
 "nbformat": 4,
 "nbformat_minor": 5
}
